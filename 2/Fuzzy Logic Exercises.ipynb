{
  "cells": [
    {
      "cell_type": "markdown",
      "metadata": {
        "id": "XDt7amriboRj"
      },
      "source": [
        "# Fuzzy logic exercises\n",
        "\n",
        "In this notebook, you will write code to compute the cardinality of finite fuzzy sets and basic fuzzy logic opreators: union, intersection, and complement. For this exercise, you should not use any libraries, but rather use only basic Python."
      ]
    },
    {
      "cell_type": "markdown",
      "metadata": {
        "id": "QveQwGTgdsvn"
      },
      "source": [
        "Let's define some fuzzy sets:"
      ]
    },
    {
      "cell_type": "code",
      "execution_count": 24,
      "metadata": {
        "id": "-c0mP7_kbiye"
      },
      "outputs": [],
      "source": [
        "# Universal set\n",
        "U = ('a', 'b', 'c', 'd', 'e', 'f', 'g')\n",
        "\n",
        "# A and B are finite fuzzy sets:\n",
        "A = { 'a': 0.4, 'b': 1, 'c': 0.6, 'd': 0.0, 'e' : 0.5, 'f' : 0.3, 'g' : 0.9  }\n",
        "B = { 'a': 0.6, 'b': 0.2, 'c': 0.6, 'd': 0.7, 'e' : 0.99, 'f' : 0.5, 'g' : 0  }"
      ]
    },
    {
      "cell_type": "markdown",
      "metadata": {
        "id": "6zwrlsMCnOVR"
      },
      "source": [
        "## Cardinality and complement"
      ]
    },
    {
      "cell_type": "markdown",
      "metadata": {
        "id": "9OsMbWLXfm_E"
      },
      "source": [
        "Implement code that can outputs the cardinality of $A$ and the cardinality of $B$:"
      ]
    },
    {
      "cell_type": "code",
      "execution_count": 25,
      "metadata": {},
      "outputs": [
        {
          "name": "stdout",
          "output_type": "stream",
          "text": [
            "3.6999999999999997\n",
            "3.59\n"
          ]
        }
      ],
      "source": [
        "# implement your code to compute the cardinality of A and B here:\n",
        "print(sum(A.values()))\n",
        "print(sum(B.values()))"
      ]
    },
    {
      "cell_type": "markdown",
      "metadata": {
        "id": "cisW65VJgaww"
      },
      "source": [
        "The cardinality of $A$ should be 3.7\n",
        "\n",
        "The cardinality of $B$ should be 3.59"
      ]
    },
    {
      "cell_type": "markdown",
      "metadata": {
        "id": "4r_ySpBGiB0A"
      },
      "source": [
        "Now, implement code that computes C as the complement of $A$, that is $C = \\bar{A}$:"
      ]
    },
    {
      "cell_type": "code",
      "execution_count": 26,
      "metadata": {
        "id": "z_zYm-kqgCqv"
      },
      "outputs": [
        {
          "data": {
            "text/plain": [
              "{'a': 0.6,\n",
              " 'b': 0,\n",
              " 'c': 0.4,\n",
              " 'd': 1.0,\n",
              " 'e': 0.5,\n",
              " 'f': 0.7,\n",
              " 'g': 0.09999999999999998}"
            ]
          },
          "execution_count": 26,
          "metadata": {},
          "output_type": "execute_result"
        }
      ],
      "source": [
        "# implement your code to compute the complement of A here:\n",
        "C = dict()\n",
        "for (key, val) in A.items():\n",
        "    C[key] = 1 - val\n",
        "C"
      ]
    },
    {
      "cell_type": "markdown",
      "metadata": {
        "id": "3qd82k5pp779"
      },
      "source": [
        "## Union and intersection"
      ]
    },
    {
      "cell_type": "markdown",
      "metadata": {
        "id": "JnBgaIhXp-yR"
      },
      "source": [
        "Implement code that computes $I$ as the intersection of $A$ and $B$, that is $I = A \\cap B$:"
      ]
    },
    {
      "cell_type": "code",
      "execution_count": 27,
      "metadata": {
        "id": "riuvtJZth4N3"
      },
      "outputs": [
        {
          "name": "stdout",
          "output_type": "stream",
          "text": [
            "{'a': 0.4, 'b': 0.2, 'c': 0.6, 'd': 0.0, 'e': 0.5, 'f': 0.3, 'g': 0}\n"
          ]
        }
      ],
      "source": [
        "# implement your code to compute the intersection between A and B here:\n",
        "D = dict()\n",
        "for (keyA, valueA) in A.items():\n",
        "    for (keyB, valueB) in B.items():\n",
        "        if(keyA == keyB):\n",
        "            D[keyA] = min(valueA,valueB)\n",
        "print(D)"
      ]
    },
    {
      "cell_type": "markdown",
      "metadata": {
        "id": "OCBL88iGqun-"
      },
      "source": [
        "Finally, write code that computes $N$ as the union of $A$ and $B$, that is $N = A \\cup B$"
      ]
    },
    {
      "cell_type": "code",
      "execution_count": 28,
      "metadata": {
        "id": "42p_rRXnqmcU"
      },
      "outputs": [
        {
          "name": "stdout",
          "output_type": "stream",
          "text": [
            "{'a': 0.6, 'b': 1, 'c': 0.6, 'd': 0.7, 'e': 0.99, 'f': 0.5, 'g': 0.9}\n"
          ]
        }
      ],
      "source": [
        "# implement your code to compute the union of A and B here:\n",
        "E = dict()\n",
        "for (keyA, valueA) in A.items():\n",
        "    for (keyB, valueB) in B.items():\n",
        "        if(keyA == keyB):\n",
        "            E[keyA] = max(valueA,valueB)\n",
        "print(E)"
      ]
    },
    {
      "cell_type": "markdown",
      "metadata": {
        "id": "R_a9ROuBrX11"
      },
      "source": [
        "Great! You reached the end of the exercises in this notebook. However, note that the membership degree was specified for all elements of $U$ in both the dicts ``A`` and ``B``, even for elements with member degree 0, for instance ``d``in ``A`` (``A = { ... 'd': 0.0, ...  }``. If you haven't already done so, try to make your code robust to fuzzy set declarations as dicts that only contain a key-pairs for the elements with a positive membership degree. Hence, make the code work even if you remove ``d`` from the ``A`` and ``g`` from ``B`` in the declaration of the dicts at the top of this notebook.  \n"
      ]
    }
  ],
  "metadata": {
    "colab": {
      "collapsed_sections": [],
      "provenance": []
    },
    "kernelspec": {
      "display_name": "Python 3",
      "name": "python3"
    },
    "language_info": {
      "codemirror_mode": {
        "name": "ipython",
        "version": 3
      },
      "file_extension": ".py",
      "mimetype": "text/x-python",
      "name": "python",
      "nbconvert_exporter": "python",
      "pygments_lexer": "ipython3",
      "version": "3.12.5"
    }
  },
  "nbformat": 4,
  "nbformat_minor": 0
}
