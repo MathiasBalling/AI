{
 "cells": [
  {
   "cell_type": "markdown",
   "id": "ee817680",
   "metadata": {},
   "source": [
    "# Fuzzy controller example in Python -- the Tipping Problem:\n",
    "\n",
    "\n",
    "In this notebook, you will see an example of a fuzzy controller for the \"Tipping Problem\" (from the [skfuzz documentation](https://scikit-fuzzy.github.io/scikit-fuzzy/auto_examples/plot_tipping_problem_newapi.html)):\n",
    "\n",
    "_Let’s create a fuzzy control system which models how you might choose to tip at a restaurant. When tipping, you consider the service and food quality, rated between 0 and 10. You use this to leave a tip of between 0 and 25%._ .\n",
    "\n",
    "We will use an existing fuzzy control package for Python, ```skfuzz```.\n",
    "\n",
    "[ Documentation for skfuzz ](https://scikit-fuzzy.github.io/scikit-fuzzy/) (_note_: the documentation is not always perfect or completely up to date, but you can use the ```help(...)``` function in a code cell below to learn more about functions and arguments.)\n",
    "\n"
   ]
  },
  {
   "cell_type": "markdown",
   "id": "60848d75",
   "metadata": {},
   "source": [
    "First, we will install ```skfuzz``` (you should get version 0.4.2 or newer):"
   ]
  },
  {
   "cell_type": "code",
   "execution_count": null,
   "id": "86405bc9",
   "metadata": {},
   "outputs": [],
   "source": [
    "! pip install scikit-fuzzy"
   ]
  },
  {
   "cell_type": "markdown",
   "id": "1f9b6597",
   "metadata": {},
   "source": [
    "## Inputs and outputs\n",
    "\n",
    "Below, we define the inputs and outputs for the fuzzy controller.\n",
    "\n",
    "Note that we use ```arange()``` from the ```numpy``` (or NumPy) library. ```arange()``` returns evenly spaced values within a given interval. The ```numpy``` library is a very widely used third-party library.\n",
    "\n",
    "[Read more about NumPy](https://numpy.org/)\n",
    "\n",
    "[Read more about NumPy's ```arange()```](https://realpython.com/how-to-use-numpy-arange/)\n"
   ]
  },
  {
   "cell_type": "code",
   "execution_count": null,
   "id": "a3a3829b",
   "metadata": {},
   "outputs": [],
   "source": [
    "import numpy as np\n",
    "import skfuzzy as fuzz\n",
    "from skfuzzy import control as ctrl\n",
    "\n",
    "# New Antecedent/Consequent objects hold universe variables and membership\n",
    "# functions\n",
    "quality = ctrl.Antecedent(np.arange(0, 11, 1), \"quality\")\n",
    "service = ctrl.Antecedent(np.arange(0, 11, 1), \"service\")\n",
    "tip = ctrl.Consequent(np.arange(0, 26, 1), \"tip\")\n",
    "\n",
    "#  Membership functions for quality:\n",
    "quality[\"poor\"] = fuzz.trimf(quality.universe, [0, 0, 5])\n",
    "quality[\"average\"] = fuzz.trimf(quality.universe, [2, 5, 8])\n",
    "quality[\"good\"] = fuzz.trimf(quality.universe, [5, 10, 10])\n",
    "\n",
    "#  Membership functions for service:\n",
    "service[\"poor\"] = fuzz.trimf(service.universe, [0, 0, 5])\n",
    "service[\"average\"] = fuzz.trimf(service.universe, [0, 5, 10])\n",
    "service[\"good\"] = fuzz.trimf(service.universe, [5, 10, 10])\n",
    "\n",
    "# Membership functions for tip:\n",
    "tip[\"low\"] = fuzz.trimf(tip.universe, [0, 0, 13])\n",
    "tip[\"medium\"] = fuzz.trimf(tip.universe, [0, 13, 25])\n",
    "tip[\"high\"] = fuzz.trimf(tip.universe, [13, 25, 25])"
   ]
  },
  {
   "cell_type": "markdown",
   "id": "bb719853",
   "metadata": {},
   "source": [
    "We can now view the antecedents and the consequent:"
   ]
  },
  {
   "cell_type": "code",
   "execution_count": null,
   "id": "7b1df8fc",
   "metadata": {},
   "outputs": [],
   "source": [
    "quality.view()"
   ]
  },
  {
   "cell_type": "code",
   "execution_count": null,
   "id": "4059e8fb",
   "metadata": {},
   "outputs": [],
   "source": [
    "service.view()"
   ]
  },
  {
   "cell_type": "code",
   "execution_count": null,
   "id": "dde48dac",
   "metadata": {},
   "outputs": [],
   "source": [
    "tip.view()"
   ]
  },
  {
   "cell_type": "markdown",
   "id": "b83685ad",
   "metadata": {},
   "source": [
    "## Fuzzy rules\n",
    "\n",
    "Now, to make these triangles useful, we define the *fuzzy relationship*\n",
    "between input and output variables. For the purposes of our example, consider\n",
    "three simple rules:\n",
    "\n",
    "1. If the food is poor OR the service is poor, then the tip will be low\n",
    "2. If the service is average, then the tip will be medium\n",
    "3. If the food is good OR the service is good, then the tip will be high.\n",
    "\n",
    "Most people would agree on these rules, but the rules are fuzzy. Mapping the\n",
    "imprecise rules into a defined, actionable tip is a challenge. This is the\n",
    "kind of task at which fuzzy logic excels."
   ]
  },
  {
   "cell_type": "code",
   "execution_count": null,
   "id": "2bcd4b2f",
   "metadata": {},
   "outputs": [],
   "source": [
    "rule1 = ctrl.Rule(quality[\"poor\"] | service[\"poor\"], tip[\"low\"])\n",
    "rule2 = ctrl.Rule(service[\"average\"], tip[\"medium\"])\n",
    "rule3 = ctrl.Rule(service[\"good\"] | quality[\"good\"], tip[\"high\"])"
   ]
  },
  {
   "cell_type": "markdown",
   "id": "a04e566a",
   "metadata": {},
   "source": [
    "## Control System Creation and Simulation\n",
    "\n",
    "Now that we have our rules defined, we can simply create a control system\n",
    "via:"
   ]
  },
  {
   "cell_type": "code",
   "execution_count": null,
   "id": "c98788c5",
   "metadata": {},
   "outputs": [],
   "source": [
    "tipping_ctrl = ctrl.ControlSystem([rule1, rule2, rule3])"
   ]
  },
  {
   "cell_type": "markdown",
   "id": "cc3337e5",
   "metadata": {},
   "source": [
    "In order to simulate this control system, we will create a\n",
    "``ControlSystemSimulation``.  Think of this object representing our controller\n",
    "applied to a specific set of cirucmstances.  For tipping, this might be tipping\n",
    "Sharon at the local brew-pub.  We would create another\n",
    "``ControlSystemSimulation`` when we're trying to apply our ``tipping_ctrl``\n",
    "for Travis at the cafe because the inputs would be different.\n"
   ]
  },
  {
   "cell_type": "code",
   "execution_count": null,
   "id": "c3bebf74",
   "metadata": {},
   "outputs": [],
   "source": [
    "tipping_sim = ctrl.ControlSystemSimulation(tipping_ctrl)"
   ]
  },
  {
   "cell_type": "markdown",
   "id": "fef2d716",
   "metadata": {},
   "source": [
    "We can now simulate our control system by simply specifying the inputs\n",
    "and calling the ``compute`` method.  Suppose we rated the quality 6.5 out of 10\n",
    "and the service 9.8 of 10."
   ]
  },
  {
   "cell_type": "code",
   "execution_count": null,
   "id": "2bdc0bbf",
   "metadata": {},
   "outputs": [],
   "source": [
    "# Pass inputs to the ControlSystem using Antecedent labels with Pythonic API\n",
    "# Note: if you like passing many inputs all at once, use .inputs(dict_of_data)\n",
    "tipping_sim.input[\"quality\"] = 6.5\n",
    "tipping_sim.input[\"service\"] = 9.8\n",
    "\n",
    "# Crunch the numbers\n",
    "tipping_sim.compute()"
   ]
  },
  {
   "cell_type": "markdown",
   "id": "2b431368",
   "metadata": {},
   "source": [
    "Once computed, we can view the result as well as visualize it.\n"
   ]
  },
  {
   "cell_type": "code",
   "execution_count": null,
   "id": "81798daa",
   "metadata": {},
   "outputs": [],
   "source": [
    "# We round the input down to the nearest int:\n",
    "print(\"We should tip {}%\".format(int(tipping_sim.output[\"tip\"])))\n",
    "tip.view(sim=tipping_sim)"
   ]
  },
  {
   "cell_type": "markdown",
   "id": "36133256",
   "metadata": {},
   "source": [
    "## Notes\n",
    "\n",
    "Try to play with the above example:\n",
    "* Change the input values in a for-loop and print the results\n",
    "* Change the membership functions of the inputs and outputs, both their shapes and their definitions\n",
    "* Try to find out how to change the defuzzification method (it may involve some searching online)"
   ]
  }
 ],
 "metadata": {
  "kernelspec": {
   "display_name": "Python 3 (ipykernel)",
   "language": "python",
   "name": "python3"
  },
  "language_info": {
   "codemirror_mode": {
    "name": "ipython",
    "version": 3
   },
   "file_extension": ".py",
   "mimetype": "text/x-python",
   "name": "python",
   "nbconvert_exporter": "python",
   "pygments_lexer": "ipython3",
   "version": "3.9.6"
  }
 },
 "nbformat": 4,
 "nbformat_minor": 5
}
