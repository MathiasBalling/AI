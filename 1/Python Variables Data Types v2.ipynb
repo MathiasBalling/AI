{
 "cells": [
  {
   "cell_type": "markdown",
   "metadata": {
    "id": "1f6C0nAJTiTU"
   },
   "source": [
    "# A Quick Tour of Variables and Data Types in Python\n",
    "\n",
    "This tutorial was originally a part of [Data Analysis with Python: Zero to Pandas](https://jovian.ai/learn/data-analysis-with-python-zero-to-pandas) and [Zero to Data Analyst Science Bootcamp](https://jovian.ai/learn/zero-to-data-analyst-bootcamp). This version was modified in August 2022. The original version can be found here: https://jovian.ai/aakashns/python-variables-and-data-types\n",
    "\n",
    "\n",
    "![](https://i.imgur.com/6cg2E9Q.png)\n",
    "These tutorials take a practical and coding-focused approach. The best way to learn the material is to execute the code and experiment with it yourself. "
   ]
  },
  {
   "cell_type": "markdown",
   "metadata": {
    "id": "Cgv3V32NTiTY"
   },
   "source": [
    "This tutorial covers the following topics:\n",
    "\n",
    "- Storing information using variables\n",
    "- Primitive data types in Python: Integer, Float, Boolean, None and String\n",
    "- Built-in data structures in Python: List, Tuple and Dictionary\n",
    "- Methods and operators supported by built-in data types"
   ]
  },
  {
   "cell_type": "markdown",
   "metadata": {
    "id": "wQic6G5nTiTf"
   },
   "source": [
    "### How to run the code\n",
    "\n",
    "This tutorial is an executable [Jupyter notebook](https://jupyter.org). You can _run_ this tutorial and experiment with the code examples in a couple of ways: *using free online resources* (recommended) or *on your computer*.\n",
    "\n",
    "You can either use [Google Colab](https://colab.research.google.com) or [Kaggle](https://kaggle.com). Just upload this notebook (.ipynb file).\n",
    "\n",
    "\n",
    "#### Option 2: Running on your computer locally\n",
    "\n",
    "To run the code on your computer locally, you'll need to set up [Python](https://www.python.org), download the notebook and install the required libraries. We recommend using the [Conda](https://docs.conda.io/projects/conda/en/latest/user-guide/install/) distribution of Python.\n",
    "\n",
    ">  **Jupyter Notebooks**: This tutorial is a [Jupyter notebook](https://jupyter.org) - a document made of _cells_. Each cell can contain code written in Python or explanations in plain English. You can execute code cells and view the results, e.g., numbers, messages, graphs, tables, files, etc. instantly within the notebook. Jupyter is a powerful platform for experimentation and analysis. Don't be afraid to mess around with the code & break things - you'll learn a lot by encountering and fixing errors. You can use the \"Kernel > Restart & Clear Output\" menu option or \"Edit > Clear all output\" to clear all outputs and start again from the top."
   ]
  },
  {
   "cell_type": "markdown",
   "metadata": {
    "id": "QDXGrKi1TiTh"
   },
   "source": [
    "## Storing information using variables\n",
    "\n",
    "Computers are useful for two purposes: storing information (also known as data) and performing operations on stored data. While working with a programming language such as Python, data is stored in variables. You can think of variables are containers for storing data. The data stored within a variable is called its value. Creating variables in Python is pretty easy:\n",
    "\n"
   ]
  },
  {
   "cell_type": "code",
   "execution_count": 8,
   "metadata": {
    "id": "4htYgAPETiTi"
   },
   "outputs": [],
   "source": [
    "my_favorite_color = \"red\""
   ]
  },
  {
   "cell_type": "code",
   "execution_count": 9,
   "metadata": {
    "colab": {
     "base_uri": "https://localhost:8080/",
     "height": 36
    },
    "id": "r6JnloW5TiTk",
    "outputId": "05d314d7-a3eb-4d63-ecdf-0547d939148d"
   },
   "outputs": [
    {
     "data": {
      "text/plain": [
       "'red'"
      ]
     },
     "execution_count": 9,
     "metadata": {},
     "output_type": "execute_result"
    }
   ],
   "source": [
    "my_favorite_color"
   ]
  },
  {
   "cell_type": "markdown",
   "metadata": {
    "id": "cBIeYSEeTiTl"
   },
   "source": [
    "A variable is created using an assignment statement. It begins with the variable's name, followed by the assignment operator `=` followed by the value to be stored within the variable.  Note that the assignment operator `=` is different from the equality comparison operator `==`.\n",
    "\n",
    "You can also assign values to multiple variables in a single statement by separating the variable names and values with commas."
   ]
  },
  {
   "cell_type": "code",
   "execution_count": 10,
   "metadata": {
    "id": "fIPlhcVTTiTm"
   },
   "outputs": [],
   "source": [
    "color1, color2, color3 = \"red\", \"green\", \"blue\""
   ]
  },
  {
   "cell_type": "code",
   "execution_count": 11,
   "metadata": {
    "colab": {
     "base_uri": "https://localhost:8080/",
     "height": 36
    },
    "id": "uXvigi9YTiTo",
    "outputId": "5405a071-aece-4b4d-f407-986161d11500"
   },
   "outputs": [
    {
     "data": {
      "text/plain": [
       "'red'"
      ]
     },
     "execution_count": 11,
     "metadata": {},
     "output_type": "execute_result"
    }
   ],
   "source": [
    "color1"
   ]
  },
  {
   "cell_type": "code",
   "execution_count": 12,
   "metadata": {
    "id": "2j-mRaoSTiTp"
   },
   "outputs": [
    {
     "data": {
      "text/plain": [
       "'green'"
      ]
     },
     "execution_count": 12,
     "metadata": {},
     "output_type": "execute_result"
    }
   ],
   "source": [
    "color2"
   ]
  },
  {
   "cell_type": "code",
   "execution_count": 13,
   "metadata": {
    "id": "tXrAWQjtTiTq"
   },
   "outputs": [
    {
     "data": {
      "text/plain": [
       "'blue'"
      ]
     },
     "execution_count": 13,
     "metadata": {},
     "output_type": "execute_result"
    }
   ],
   "source": [
    "color3"
   ]
  },
  {
   "cell_type": "markdown",
   "metadata": {
    "id": "FHbgflMZTiTs"
   },
   "source": [
    "You can assign the same value to multiple variables by chaining multiple assignment operations within a single statement."
   ]
  },
  {
   "cell_type": "code",
   "execution_count": 14,
   "metadata": {
    "id": "lHeGHq3TTiTs"
   },
   "outputs": [],
   "source": [
    "color4 = color5 = color6 = \"magenta\""
   ]
  },
  {
   "cell_type": "code",
   "execution_count": 15,
   "metadata": {
    "id": "phUt04_MTiTt"
   },
   "outputs": [
    {
     "data": {
      "text/plain": [
       "'magenta'"
      ]
     },
     "execution_count": 15,
     "metadata": {},
     "output_type": "execute_result"
    }
   ],
   "source": [
    "color4"
   ]
  },
  {
   "cell_type": "code",
   "execution_count": 16,
   "metadata": {
    "id": "u3yDs-yCTiTu"
   },
   "outputs": [
    {
     "data": {
      "text/plain": [
       "'magenta'"
      ]
     },
     "execution_count": 16,
     "metadata": {},
     "output_type": "execute_result"
    }
   ],
   "source": [
    "color5"
   ]
  },
  {
   "cell_type": "code",
   "execution_count": 17,
   "metadata": {
    "id": "AnG3IqsYTiTu"
   },
   "outputs": [
    {
     "data": {
      "text/plain": [
       "'magenta'"
      ]
     },
     "execution_count": 17,
     "metadata": {},
     "output_type": "execute_result"
    }
   ],
   "source": [
    "color6"
   ]
  },
  {
   "cell_type": "markdown",
   "metadata": {
    "id": "5YAxLq_ITiTv"
   },
   "source": [
    "You can change the value stored within a variable by assigning a new value to it using another assignment statement. Be careful while reassigning variables: when you assign a new value to the variable, the old value is lost and no longer accessible."
   ]
  },
  {
   "cell_type": "code",
   "execution_count": 18,
   "metadata": {
    "id": "CQdrOAtzTiTw"
   },
   "outputs": [],
   "source": [
    "my_favorite_color = \"red\""
   ]
  },
  {
   "cell_type": "code",
   "execution_count": 19,
   "metadata": {
    "id": "Pp8656AFTiTx"
   },
   "outputs": [
    {
     "data": {
      "text/plain": [
       "'red'"
      ]
     },
     "execution_count": 19,
     "metadata": {},
     "output_type": "execute_result"
    }
   ],
   "source": [
    "my_favorite_color"
   ]
  },
  {
   "cell_type": "markdown",
   "metadata": {
    "id": "uD9upv-bTiTy"
   },
   "source": [
    "While reassigning a variable, you can also use the variable's previous value to compute the new value."
   ]
  },
  {
   "cell_type": "code",
   "execution_count": 20,
   "metadata": {
    "id": "mRIRNp2xTiTy"
   },
   "outputs": [],
   "source": [
    "counter = 10"
   ]
  },
  {
   "cell_type": "code",
   "execution_count": 21,
   "metadata": {
    "id": "vvqLd2E_TiTy"
   },
   "outputs": [],
   "source": [
    "counter = counter + 1"
   ]
  },
  {
   "cell_type": "code",
   "execution_count": 22,
   "metadata": {
    "id": "a0FeDWNvTiTz"
   },
   "outputs": [
    {
     "data": {
      "text/plain": [
       "11"
      ]
     },
     "execution_count": 22,
     "metadata": {},
     "output_type": "execute_result"
    }
   ],
   "source": [
    "counter"
   ]
  },
  {
   "cell_type": "markdown",
   "metadata": {
    "id": "MH3FaxkkTiT0"
   },
   "source": [
    "The pattern `var = var op something` (where `op` is an arithmetic operator like `+`, `-`, `*`, `/`) is very common, so Python provides a *shorthand* syntax for it."
   ]
  },
  {
   "cell_type": "code",
   "execution_count": 23,
   "metadata": {
    "id": "cex6E5l8TiT0"
   },
   "outputs": [],
   "source": [
    "counter = 10"
   ]
  },
  {
   "cell_type": "code",
   "execution_count": 24,
   "metadata": {
    "id": "QPZUWoIYTiT0"
   },
   "outputs": [],
   "source": [
    "# Same as `counter = counter + 4`\n",
    "counter += 4"
   ]
  },
  {
   "cell_type": "code",
   "execution_count": 25,
   "metadata": {
    "id": "TshwDz6cTiT0"
   },
   "outputs": [
    {
     "data": {
      "text/plain": [
       "14"
      ]
     },
     "execution_count": 25,
     "metadata": {},
     "output_type": "execute_result"
    }
   ],
   "source": [
    "counter"
   ]
  },
  {
   "cell_type": "markdown",
   "metadata": {
    "id": "FdYz8wxTTiT1"
   },
   "source": [
    "Variable names can be short (`a`, `x`, `y`, etc.) or descriptive ( `my_favorite_color`, `profit_margin`, `the_3_musketeers`, etc.). However, you must follow these rules while naming Python variables:\n",
    "\n",
    "* A variable's name must start with a letter or the underscore character `_`. It cannot begin with a number.\n",
    "* A variable name can only contain lowercase (small) or uppercase (capital) letters, digits, or underscores (`a`-`z`, `A`-`Z`, `0`-`9`, and `_`).\n",
    "* Variable names are case-sensitive, i.e., `a_variable`, `A_Variable`, and `A_VARIABLE` are all different variables.\n",
    "\n",
    "Here are some valid variable names:"
   ]
  },
  {
   "cell_type": "code",
   "execution_count": 26,
   "metadata": {
    "id": "9R9uskkGTiT1"
   },
   "outputs": [],
   "source": [
    "a_variable = 23\n",
    "is_today_Saturday = False\n",
    "my_favorite_car = \"Delorean\"\n",
    "the_3_musketeers = [\"Athos\", \"Porthos\", \"Aramis\"] "
   ]
  },
  {
   "cell_type": "markdown",
   "metadata": {
    "id": "LjuQT9UKTiT2"
   },
   "source": [
    "Let's try creating some variables with invalid names. Python prints a syntax error if your variable's name is invalid.\n",
    "\n",
    "> **Syntax**: The syntax of a programming language refers to the rules that govern the structure of a valid instruction or *statement*. If a statement does not follow these rules, Python stops execution and informs you that there is a *syntax error*. You can think of syntax as the rules of grammar for a programming language."
   ]
  },
  {
   "cell_type": "code",
   "execution_count": 27,
   "metadata": {
    "colab": {
     "base_uri": "https://localhost:8080/",
     "height": 137
    },
    "id": "woEV8FC-TiT2",
    "outputId": "039e2dc0-2893-49ac-fa09-520e3606ba93"
   },
   "outputs": [
    {
     "ename": "SyntaxError",
     "evalue": "invalid syntax (605469086.py, line 1)",
     "output_type": "error",
     "traceback": [
      "\u001b[0;36m  Cell \u001b[0;32mIn[27], line 1\u001b[0;36m\u001b[0m\n\u001b[0;31m    a variable = 23\u001b[0m\n\u001b[0m      ^\u001b[0m\n\u001b[0;31mSyntaxError\u001b[0m\u001b[0;31m:\u001b[0m invalid syntax\n"
     ]
    }
   ],
   "source": [
    "a variable = 23"
   ]
  },
  {
   "cell_type": "code",
   "execution_count": null,
   "metadata": {
    "colab": {
     "base_uri": "https://localhost:8080/",
     "height": 137
    },
    "id": "JWA0QhpUTiT3",
    "outputId": "4d0035a7-0c68-4cb5-9116-9d5abc3eb5c8"
   },
   "outputs": [
    {
     "ename": "SyntaxError",
     "evalue": "ignored",
     "output_type": "error",
     "traceback": [
      "\u001b[0;36m  File \u001b[0;32m\"<ipython-input-6-3785425ca227>\"\u001b[0;36m, line \u001b[0;32m1\u001b[0m\n\u001b[0;31m    is_today_$aturday = False\u001b[0m\n\u001b[0m             ^\u001b[0m\n\u001b[0;31mSyntaxError\u001b[0m\u001b[0;31m:\u001b[0m invalid syntax\n"
     ]
    }
   ],
   "source": [
    "is_today_$aturday = False"
   ]
  },
  {
   "cell_type": "code",
   "execution_count": null,
   "metadata": {
    "id": "TECK2vNoTiT4"
   },
   "outputs": [],
   "source": [
    "my-favorite-car = \"Delorean\""
   ]
  },
  {
   "cell_type": "code",
   "execution_count": null,
   "metadata": {
    "id": "7aXTK-kjTiT4"
   },
   "outputs": [],
   "source": [
    "3_musketeers = [\"Athos\", \"Porthos\", \"Aramis\"]"
   ]
  },
  {
   "cell_type": "markdown",
   "metadata": {
    "id": "LHqVIMgwTiT7"
   },
   "source": [
    "## Built-in data types in Python\n",
    "\n",
    "Any data or information stored within a Python variable has a *type*. You can view the type of data stored within a variable using the `type` function."
   ]
  },
  {
   "cell_type": "code",
   "execution_count": null,
   "metadata": {
    "id": "pJXJHu4qTiT7"
   },
   "outputs": [],
   "source": [
    "a_variable"
   ]
  },
  {
   "cell_type": "code",
   "execution_count": null,
   "metadata": {
    "id": "1YYCF99JTiT7"
   },
   "outputs": [],
   "source": [
    "type(a_variable)"
   ]
  },
  {
   "cell_type": "code",
   "execution_count": null,
   "metadata": {
    "id": "BRrJwcYuTiT8"
   },
   "outputs": [
    {
     "ename": "NameError",
     "evalue": "name 'is_today_Saturday' is not defined",
     "output_type": "error",
     "traceback": [
      "\u001b[0;31m---------------------------------------------------------------------------\u001b[0m",
      "\u001b[0;31mNameError\u001b[0m                                 Traceback (most recent call last)",
      "Cell \u001b[0;32mIn[6], line 1\u001b[0m\n\u001b[0;32m----> 1\u001b[0m \u001b[43mis_today_Saturday\u001b[49m\n",
      "\u001b[0;31mNameError\u001b[0m: name 'is_today_Saturday' is not defined"
     ]
    }
   ],
   "source": [
    "is_today_Saturday"
   ]
  },
  {
   "cell_type": "code",
   "execution_count": null,
   "metadata": {
    "id": "KYxv5rEfTiT8"
   },
   "outputs": [
    {
     "ename": "NameError",
     "evalue": "name 'is_today_Saturday' is not defined",
     "output_type": "error",
     "traceback": [
      "\u001b[0;31m---------------------------------------------------------------------------\u001b[0m",
      "\u001b[0;31mNameError\u001b[0m                                 Traceback (most recent call last)",
      "Cell \u001b[0;32mIn[7], line 1\u001b[0m\n\u001b[0;32m----> 1\u001b[0m \u001b[38;5;28mtype\u001b[39m(\u001b[43mis_today_Saturday\u001b[49m)\n",
      "\u001b[0;31mNameError\u001b[0m: name 'is_today_Saturday' is not defined"
     ]
    }
   ],
   "source": [
    "type(is_today_Saturday)"
   ]
  },
  {
   "cell_type": "code",
   "execution_count": null,
   "metadata": {
    "id": "77amC_7WTiT9"
   },
   "outputs": [],
   "source": [
    "my_favorite_car"
   ]
  },
  {
   "cell_type": "code",
   "execution_count": null,
   "metadata": {
    "id": "Yf0LlbOxTiT9"
   },
   "outputs": [],
   "source": [
    "type(my_favorite_car)"
   ]
  },
  {
   "cell_type": "code",
   "execution_count": null,
   "metadata": {
    "id": "g3Sl5U-hTiT-"
   },
   "outputs": [],
   "source": [
    "the_3_musketeers"
   ]
  },
  {
   "cell_type": "code",
   "execution_count": null,
   "metadata": {
    "id": "Wv0pSH9RTiT_"
   },
   "outputs": [],
   "source": [
    "type(the_3_musketeers)"
   ]
  },
  {
   "cell_type": "markdown",
   "metadata": {
    "id": "yliD1pxiTiT_"
   },
   "source": [
    "Python has several built-in data types for storing different kinds of information in variables. Following are some commonly used data types:\n",
    "\n",
    "1. Integer\n",
    "2. Float\n",
    "3. Boolean\n",
    "4. None\n",
    "5. String\n",
    "6. List\n",
    "7. Tuple\n",
    "8. Dictionary\n",
    "\n",
    "Integer, float, boolean, None, and string are *primitive data types* because they represent a single value. Other data types like list, tuple, and dictionary are often called *data structures* or *containers* because they hold multiple pieces of data together."
   ]
  },
  {
   "cell_type": "markdown",
   "metadata": {
    "id": "rWRpPhNOTiUA"
   },
   "source": [
    "### Integer\n",
    "\n",
    "Integers represent positive or negative whole numbers, from negative infinity to infinity. Note that integers should not include decimal points. Integers have the type `int`."
   ]
  },
  {
   "cell_type": "code",
   "execution_count": null,
   "metadata": {
    "id": "KWFZBr5wTiUB"
   },
   "outputs": [],
   "source": [
    "current_year = 2020"
   ]
  },
  {
   "cell_type": "code",
   "execution_count": null,
   "metadata": {
    "id": "0zG-b72wTiUB"
   },
   "outputs": [],
   "source": [
    "current_year"
   ]
  },
  {
   "cell_type": "code",
   "execution_count": null,
   "metadata": {
    "id": "NZp6OWI6TiUC"
   },
   "outputs": [],
   "source": [
    "type(current_year)"
   ]
  },
  {
   "cell_type": "markdown",
   "metadata": {
    "id": "o-G-HeYZTiUC"
   },
   "source": [
    "Unlike some other programming languages, integers in Python can be arbitrarily large (or small). There's no lowest or highest value for integers, and there's just one `int` type (as opposed to `short`, `int`, `long`, `long long`, `unsigned int`, etc. in C/C++/Java)."
   ]
  },
  {
   "cell_type": "code",
   "execution_count": null,
   "metadata": {
    "id": "Y8Oz6yMITiUD"
   },
   "outputs": [],
   "source": [
    "a_large_negative_number = -23374038374832934334234317348343"
   ]
  },
  {
   "cell_type": "code",
   "execution_count": null,
   "metadata": {
    "id": "_6x7f7dkTiUD"
   },
   "outputs": [],
   "source": [
    "a_large_negative_number"
   ]
  },
  {
   "cell_type": "code",
   "execution_count": null,
   "metadata": {
    "id": "32Gb2MRSTiUE"
   },
   "outputs": [],
   "source": [
    "type(a_large_negative_number)"
   ]
  },
  {
   "cell_type": "markdown",
   "metadata": {
    "id": "Ln7khLAzTiUE"
   },
   "source": [
    "### Float\n",
    "\n",
    "Floats (or floating-point numbers) are numbers with a decimal point. There are no limits on the value or the number of digits before or after the decimal point. Floating-point numbers have the type `float`."
   ]
  },
  {
   "cell_type": "code",
   "execution_count": null,
   "metadata": {
    "id": "3A12RbryTiUE"
   },
   "outputs": [],
   "source": [
    "pi = 3.141592653589793238"
   ]
  },
  {
   "cell_type": "code",
   "execution_count": null,
   "metadata": {
    "id": "G_bzMMklTiUE"
   },
   "outputs": [],
   "source": [
    "pi"
   ]
  },
  {
   "cell_type": "code",
   "execution_count": null,
   "metadata": {
    "id": "Up7zhnXiTiUF"
   },
   "outputs": [],
   "source": [
    "type(pi)"
   ]
  },
  {
   "cell_type": "markdown",
   "metadata": {
    "id": "H2aSOxn8TiUF"
   },
   "source": [
    "Note that a whole number is treated as a float if written with a decimal point, even though the decimal portion of the number is zero."
   ]
  },
  {
   "cell_type": "code",
   "execution_count": null,
   "metadata": {
    "id": "pRqu01ypTiUG"
   },
   "outputs": [],
   "source": [
    "a_number = 3.0"
   ]
  },
  {
   "cell_type": "code",
   "execution_count": null,
   "metadata": {
    "id": "uQSmiLlgTiUH"
   },
   "outputs": [],
   "source": [
    "a_number"
   ]
  },
  {
   "cell_type": "code",
   "execution_count": null,
   "metadata": {
    "id": "9IKSbLNtTiUH"
   },
   "outputs": [],
   "source": [
    "type(a_number)"
   ]
  },
  {
   "cell_type": "code",
   "execution_count": null,
   "metadata": {
    "id": "rIe9j72ETiUI"
   },
   "outputs": [],
   "source": [
    "another_number = 4."
   ]
  },
  {
   "cell_type": "code",
   "execution_count": null,
   "metadata": {
    "id": "uIYgOu9RTiUI"
   },
   "outputs": [],
   "source": [
    "another_number"
   ]
  },
  {
   "cell_type": "code",
   "execution_count": null,
   "metadata": {
    "id": "PByYHMIUTiUI"
   },
   "outputs": [],
   "source": [
    "type(another_number)"
   ]
  },
  {
   "cell_type": "markdown",
   "metadata": {
    "id": "4Yfz0LGZTiUI"
   },
   "source": [
    "Floating point numbers can also be written using the scientific notation with an \"e\" to indicate the power of 10."
   ]
  },
  {
   "cell_type": "code",
   "execution_count": null,
   "metadata": {
    "id": "ipDDRZJaTiUI"
   },
   "outputs": [],
   "source": [
    "one_hundredth = 1e-2"
   ]
  },
  {
   "cell_type": "code",
   "execution_count": null,
   "metadata": {
    "id": "L_8dhTBBTiUJ"
   },
   "outputs": [],
   "source": [
    "one_hundredth"
   ]
  },
  {
   "cell_type": "code",
   "execution_count": null,
   "metadata": {
    "id": "sOWh-kd8TiUJ"
   },
   "outputs": [],
   "source": [
    "type(one_hundredth)"
   ]
  },
  {
   "cell_type": "code",
   "execution_count": null,
   "metadata": {
    "id": "TUSYtvvQTiUK"
   },
   "outputs": [],
   "source": [
    "avogadro_number = 6.02214076e23"
   ]
  },
  {
   "cell_type": "code",
   "execution_count": null,
   "metadata": {
    "id": "t4mEu7yzTiUK"
   },
   "outputs": [],
   "source": [
    "avogadro_number"
   ]
  },
  {
   "cell_type": "code",
   "execution_count": null,
   "metadata": {
    "id": "AJsg16TETiUK"
   },
   "outputs": [],
   "source": [
    "type(avogadro_number)"
   ]
  },
  {
   "cell_type": "markdown",
   "metadata": {
    "id": "2wA4j3I_TiUL"
   },
   "source": [
    "You can convert floats into integers and vice versa using the `float` and `int` functions. The operation of converting one type of value into another is called casting."
   ]
  },
  {
   "cell_type": "code",
   "execution_count": null,
   "metadata": {
    "id": "8Stfugw-TiUL"
   },
   "outputs": [],
   "source": [
    "float(current_year)"
   ]
  },
  {
   "cell_type": "code",
   "execution_count": null,
   "metadata": {
    "id": "0zPA3RcVTiUM"
   },
   "outputs": [],
   "source": [
    "float(a_large_negative_number)"
   ]
  },
  {
   "cell_type": "code",
   "execution_count": null,
   "metadata": {
    "id": "yHEsscvgTiUM"
   },
   "outputs": [],
   "source": [
    "int(pi)"
   ]
  },
  {
   "cell_type": "code",
   "execution_count": null,
   "metadata": {
    "id": "vR3u-GsATiUN"
   },
   "outputs": [],
   "source": [
    "int(avogadro_number)"
   ]
  },
  {
   "cell_type": "markdown",
   "metadata": {
    "id": "j5xSucG8TiUN"
   },
   "source": [
    "While performing arithmetic operations, integers are automatically converted to `float`s if any of the operands is a `float`. Also, the division operator `/` always returns a `float`, even if both operands are integers. Use the `//` operator if you want the result of the division to be an `int`."
   ]
  },
  {
   "cell_type": "code",
   "execution_count": null,
   "metadata": {
    "id": "HMoT_QiyTiUN"
   },
   "outputs": [],
   "source": [
    "type(45 * 3.0)"
   ]
  },
  {
   "cell_type": "code",
   "execution_count": null,
   "metadata": {
    "id": "Pq2TczxiTiUO"
   },
   "outputs": [],
   "source": [
    "type(45 * 3)"
   ]
  },
  {
   "cell_type": "code",
   "execution_count": null,
   "metadata": {
    "id": "6gkhBR-bTiUP"
   },
   "outputs": [],
   "source": [
    "type(10/3)"
   ]
  },
  {
   "cell_type": "code",
   "execution_count": null,
   "metadata": {
    "id": "Ilf3dEFaTiUP"
   },
   "outputs": [],
   "source": [
    "type(10/2)"
   ]
  },
  {
   "cell_type": "code",
   "execution_count": null,
   "metadata": {
    "id": "p781TeuQTiUP"
   },
   "outputs": [],
   "source": [
    "type(10//2)"
   ]
  },
  {
   "cell_type": "markdown",
   "metadata": {
    "id": "rgzdmn5HTiUQ"
   },
   "source": [
    "### Boolean\n",
    "\n",
    "Booleans represent one of 2 values: `True` and `False`. Booleans have the type `bool`."
   ]
  },
  {
   "cell_type": "code",
   "execution_count": null,
   "metadata": {
    "id": "E92PPLBSTiUQ"
   },
   "outputs": [],
   "source": [
    "is_today_Sunday = True"
   ]
  },
  {
   "cell_type": "code",
   "execution_count": null,
   "metadata": {
    "id": "NRjUDjewTiUQ"
   },
   "outputs": [],
   "source": [
    "is_today_Sunday"
   ]
  },
  {
   "cell_type": "code",
   "execution_count": null,
   "metadata": {
    "id": "GyhkK8IzTiUR"
   },
   "outputs": [],
   "source": [
    "type(is_today_Saturday)"
   ]
  },
  {
   "cell_type": "markdown",
   "metadata": {
    "id": "wgbS7fqwTiUS"
   },
   "source": [
    "Booleans are generally the result of a comparison operation, e.g., `==`, `>=`, etc."
   ]
  },
  {
   "cell_type": "code",
   "execution_count": null,
   "metadata": {
    "id": "c4sXRHgDTiUS"
   },
   "outputs": [],
   "source": [
    "cost_of_ice_bag = 1.25\n",
    "is_ice_bag_expensive = cost_of_ice_bag >= 10"
   ]
  },
  {
   "cell_type": "code",
   "execution_count": null,
   "metadata": {
    "id": "MSGXVKzTTiUT"
   },
   "outputs": [],
   "source": [
    "is_ice_bag_expensive"
   ]
  },
  {
   "cell_type": "code",
   "execution_count": null,
   "metadata": {
    "id": "AA4aeNBRTiUT"
   },
   "outputs": [],
   "source": [
    "type(is_ice_bag_expensive)"
   ]
  },
  {
   "cell_type": "markdown",
   "metadata": {
    "id": "DxYHS4TQTiUU"
   },
   "source": [
    "Booleans are automatically converted to `int`s when used in arithmetic operations. `True` is converted to `1` and `False` is converted to `0`."
   ]
  },
  {
   "cell_type": "code",
   "execution_count": null,
   "metadata": {
    "id": "qCDLU5tgTiUU"
   },
   "outputs": [],
   "source": [
    "5 + False"
   ]
  },
  {
   "cell_type": "code",
   "execution_count": null,
   "metadata": {
    "id": "VTDmUpl6TiUU"
   },
   "outputs": [],
   "source": [
    "3. + True"
   ]
  },
  {
   "cell_type": "markdown",
   "metadata": {
    "id": "8T-_UM3lTiUV"
   },
   "source": [
    "Any value in Python can be converted to a Boolean using the `bool` function. \n",
    "\n",
    "Only the following values evaluate to `False` (they are often called *falsy* values):\n",
    "\n",
    "1. The value `False` itself\n",
    "2. The integer `0`\n",
    "3. The float `0.0`\n",
    "4. The empty value `None`\n",
    "5. The empty text `\"\"`\n",
    "6. The empty list `[]`\n",
    "7. The empty tuple `()`\n",
    "8. The empty dictionary `{}`\n",
    "9. The empty set `set()`\n",
    "10. The empty range `range(0)`\n",
    "\n",
    "Everything else evaluates to `True` (a value that evaluates to `True` is often called a *truthy* value)."
   ]
  },
  {
   "cell_type": "code",
   "execution_count": null,
   "metadata": {
    "id": "KxoppZOsTiUY"
   },
   "outputs": [],
   "source": [
    "bool(False)"
   ]
  },
  {
   "cell_type": "code",
   "execution_count": null,
   "metadata": {
    "id": "8xvgn7yVTiUZ"
   },
   "outputs": [],
   "source": [
    "bool(0)"
   ]
  },
  {
   "cell_type": "code",
   "execution_count": null,
   "metadata": {
    "id": "IGytZgf-TiUb"
   },
   "outputs": [],
   "source": [
    "bool(0.0)"
   ]
  },
  {
   "cell_type": "code",
   "execution_count": null,
   "metadata": {
    "id": "5ekXIQZ5TiUb"
   },
   "outputs": [],
   "source": [
    "bool(None)"
   ]
  },
  {
   "cell_type": "code",
   "execution_count": null,
   "metadata": {
    "id": "XOdTODOSTiUb"
   },
   "outputs": [],
   "source": [
    "bool(\"\")"
   ]
  },
  {
   "cell_type": "code",
   "execution_count": null,
   "metadata": {
    "id": "HO4gZbr6TiUb"
   },
   "outputs": [],
   "source": [
    "bool([])"
   ]
  },
  {
   "cell_type": "code",
   "execution_count": null,
   "metadata": {
    "id": "IsZdQDRUTiUc"
   },
   "outputs": [],
   "source": [
    "bool(())"
   ]
  },
  {
   "cell_type": "code",
   "execution_count": null,
   "metadata": {
    "id": "z7emHWOyTiUd"
   },
   "outputs": [],
   "source": [
    "bool({})"
   ]
  },
  {
   "cell_type": "code",
   "execution_count": null,
   "metadata": {
    "id": "phgrZWfTTiUd"
   },
   "outputs": [],
   "source": [
    "bool(set())"
   ]
  },
  {
   "cell_type": "code",
   "execution_count": null,
   "metadata": {
    "id": "OPRsdcS2TiUe"
   },
   "outputs": [],
   "source": [
    "bool(range(0))"
   ]
  },
  {
   "cell_type": "code",
   "execution_count": null,
   "metadata": {
    "id": "WeoQYon0TiUe"
   },
   "outputs": [],
   "source": [
    "bool(True), bool(1), bool(2.0), bool(\"hello\"), bool([1,2]), bool((2,3)), bool(range(10))"
   ]
  },
  {
   "cell_type": "markdown",
   "metadata": {
    "id": "xL1etj7OTiUf"
   },
   "source": [
    "### None\n",
    "\n",
    "The None type includes a single value `None`, used to indicate the absence of a value. `None` has the type `NoneType`. It is often used to declare a variable whose value may be assigned later."
   ]
  },
  {
   "cell_type": "code",
   "execution_count": null,
   "metadata": {
    "id": "Anfm4curTiUf"
   },
   "outputs": [],
   "source": [
    "nothing = None"
   ]
  },
  {
   "cell_type": "code",
   "execution_count": null,
   "metadata": {
    "id": "pCH_M-3pTiUg"
   },
   "outputs": [],
   "source": [
    "type(nothing)"
   ]
  },
  {
   "cell_type": "markdown",
   "metadata": {
    "id": "DzasqjySTiUg"
   },
   "source": [
    "### String\n",
    "\n",
    "A string is used to represent text (*a string of characters*) in Python. Strings must be surrounded using quotations (either the single quote `'` or the double quote `\"`). Strings have the type `string`."
   ]
  },
  {
   "cell_type": "code",
   "execution_count": null,
   "metadata": {
    "id": "pNflCODkTiUg"
   },
   "outputs": [],
   "source": [
    "today = \"Saturday\""
   ]
  },
  {
   "cell_type": "code",
   "execution_count": null,
   "metadata": {
    "id": "WF-WuM9nTiUh"
   },
   "outputs": [],
   "source": [
    "today"
   ]
  },
  {
   "cell_type": "code",
   "execution_count": null,
   "metadata": {
    "id": "J8z5hU53TiUh"
   },
   "outputs": [],
   "source": [
    "type(today)"
   ]
  },
  {
   "cell_type": "markdown",
   "metadata": {
    "id": "D3oXxsjHTiUh"
   },
   "source": [
    "You can use single quotes inside a string written with double quotes, and vice versa."
   ]
  },
  {
   "cell_type": "code",
   "execution_count": null,
   "metadata": {
    "id": "a00dy5ABTiUh"
   },
   "outputs": [],
   "source": [
    "my_favorite_movie = \"One Flew over the Cuckoo's Nest\" "
   ]
  },
  {
   "cell_type": "code",
   "execution_count": null,
   "metadata": {
    "id": "xQS_3e1rTiUh"
   },
   "outputs": [],
   "source": [
    "my_favorite_movie"
   ]
  },
  {
   "cell_type": "code",
   "execution_count": null,
   "metadata": {
    "id": "Ix6ljOr-TiUi"
   },
   "outputs": [],
   "source": [
    "my_favorite_pun = 'Thanks for explaining the word \"many\" to me, it means a lot.'"
   ]
  },
  {
   "cell_type": "code",
   "execution_count": null,
   "metadata": {
    "id": "KqZYFD9DTiUj"
   },
   "outputs": [],
   "source": [
    "my_favorite_pun"
   ]
  },
  {
   "cell_type": "markdown",
   "metadata": {
    "id": "mv1X21K3TiUj"
   },
   "source": [
    "To use a double quote within a string written with double quotes, *escape* the inner quotes by prefixing them with the `\\` character."
   ]
  },
  {
   "cell_type": "code",
   "execution_count": null,
   "metadata": {
    "id": "OMFCJ9ZHTiUj"
   },
   "outputs": [],
   "source": [
    "another_pun = \"The first time I got a universal remote control, I thought to myself \\\"This changes everything\\\".\""
   ]
  },
  {
   "cell_type": "code",
   "execution_count": null,
   "metadata": {
    "id": "AAJnUTDKTiUj"
   },
   "outputs": [],
   "source": [
    "another_pun"
   ]
  },
  {
   "cell_type": "markdown",
   "metadata": {
    "id": "p_BipgwkTiUk"
   },
   "source": [
    "Strings created using single or double quotes must begin and end on the same line. To create multiline strings, use three single quotes `'''` or three double quotes `\"\"\"` to begin and end the string. Line breaks are represented using the newline character `\\n`."
   ]
  },
  {
   "cell_type": "code",
   "execution_count": null,
   "metadata": {
    "id": "qDvXy788TiUk"
   },
   "outputs": [],
   "source": [
    "yet_another_pun = '''Son: \"Dad, can you tell me what a solar eclipse is?\" \n",
    "Dad: \"No sun.\"'''"
   ]
  },
  {
   "cell_type": "code",
   "execution_count": null,
   "metadata": {
    "id": "CYLd2MDwTiUl"
   },
   "outputs": [],
   "source": [
    "yet_another_pun"
   ]
  },
  {
   "cell_type": "markdown",
   "metadata": {
    "id": "NCk2dhRkTiUl"
   },
   "source": [
    "Multiline strings are best displayed using the `print` function."
   ]
  },
  {
   "cell_type": "code",
   "execution_count": null,
   "metadata": {
    "id": "FDafRLhrTiUm"
   },
   "outputs": [],
   "source": [
    "print(yet_another_pun)"
   ]
  },
  {
   "cell_type": "code",
   "execution_count": null,
   "metadata": {
    "id": "GfATuDg-TiUn"
   },
   "outputs": [],
   "source": [
    "a_music_pun = \"\"\"\n",
    "Two windmills are standing in a field and one asks the other, \n",
    "\"What kind of music do you like?\"  \n",
    "\n",
    "The other says, \n",
    "\"I'm a big metal fan.\"\n",
    "\"\"\""
   ]
  },
  {
   "cell_type": "code",
   "execution_count": null,
   "metadata": {
    "id": "opeFKGsvTiUn"
   },
   "outputs": [],
   "source": [
    "print(a_music_pun)"
   ]
  },
  {
   "cell_type": "markdown",
   "metadata": {
    "id": "vZSmk1GlTiUn"
   },
   "source": [
    "You can check the length of a string using the `len` function."
   ]
  },
  {
   "cell_type": "code",
   "execution_count": null,
   "metadata": {
    "id": "uEZVUu4gTiUn"
   },
   "outputs": [],
   "source": [
    "len(my_favorite_movie)"
   ]
  },
  {
   "cell_type": "markdown",
   "metadata": {
    "id": "A3RoYyUKTiUo"
   },
   "source": [
    "Note that special characters like `\\n` and escaped characters like `\\\"` count as a single character, even though they are written and sometimes printed as two characters."
   ]
  },
  {
   "cell_type": "code",
   "execution_count": null,
   "metadata": {
    "id": "4SSJgN7JTiUo"
   },
   "outputs": [],
   "source": [
    "multiline_string = \"\"\"a\n",
    "b\"\"\"\n",
    "multiline_string"
   ]
  },
  {
   "cell_type": "code",
   "execution_count": null,
   "metadata": {
    "id": "VKo4V-W4TiUp"
   },
   "outputs": [],
   "source": [
    "len(multiline_string)"
   ]
  },
  {
   "cell_type": "markdown",
   "metadata": {
    "id": "VpASfJUjTiUp"
   },
   "source": [
    "A string can be converted into a list of characters using `list` function."
   ]
  },
  {
   "cell_type": "code",
   "execution_count": null,
   "metadata": {
    "id": "-9HYIot3TiUp"
   },
   "outputs": [],
   "source": [
    "list(multiline_string)"
   ]
  },
  {
   "cell_type": "markdown",
   "metadata": {
    "id": "IaWNBNawTiUq"
   },
   "source": [
    "Strings also support several list operations, which are discussed in the next section. We'll look at a couple of examples here.\n",
    "\n",
    "You can access individual characters within a string using the `[]` indexing notation. Note the character indices go from `0` to `n-1`, where `n` is the length of the string."
   ]
  },
  {
   "cell_type": "code",
   "execution_count": null,
   "metadata": {
    "id": "1vbqbFs2TiUq"
   },
   "outputs": [],
   "source": [
    "today = \"Saturday\""
   ]
  },
  {
   "cell_type": "code",
   "execution_count": null,
   "metadata": {
    "id": "eEI7wbS3TiUq"
   },
   "outputs": [],
   "source": [
    "today[0]"
   ]
  },
  {
   "cell_type": "code",
   "execution_count": null,
   "metadata": {
    "id": "VOIHnHcATiUr"
   },
   "outputs": [],
   "source": [
    "today[3]"
   ]
  },
  {
   "cell_type": "code",
   "execution_count": null,
   "metadata": {
    "id": "It6HLKRDTiUr"
   },
   "outputs": [],
   "source": [
    "today[7]"
   ]
  },
  {
   "cell_type": "markdown",
   "metadata": {
    "id": "Qo5geGObTiUr"
   },
   "source": [
    "You can access a part of a string using by providing a `start:end` range instead of a single index in `[]`."
   ]
  },
  {
   "cell_type": "code",
   "execution_count": null,
   "metadata": {
    "id": "mfmE_0FeTiUs"
   },
   "outputs": [],
   "source": [
    "today[5:8]"
   ]
  },
  {
   "cell_type": "markdown",
   "metadata": {
    "id": "dIa_Sr3JTiUs"
   },
   "source": [
    "You can also check whether a string contains a some text using the `in` operator. "
   ]
  },
  {
   "cell_type": "code",
   "execution_count": null,
   "metadata": {
    "id": "PScgVzAMTiUs"
   },
   "outputs": [],
   "source": [
    "'day' in today"
   ]
  },
  {
   "cell_type": "code",
   "execution_count": null,
   "metadata": {
    "id": "u3galQsjTiUs"
   },
   "outputs": [],
   "source": [
    "'Sun' in today"
   ]
  },
  {
   "cell_type": "markdown",
   "metadata": {
    "id": "pRbwAvtqTiUt"
   },
   "source": [
    "Two or more strings can be joined or *concatenated* using the `+` operator. Be careful while concatenating strings, sometimes you may need to add a space character `\" \"` between words."
   ]
  },
  {
   "cell_type": "code",
   "execution_count": null,
   "metadata": {
    "id": "l8ooFNkKTiUt"
   },
   "outputs": [],
   "source": [
    "full_name = \"Derek O'Brien\""
   ]
  },
  {
   "cell_type": "code",
   "execution_count": null,
   "metadata": {
    "id": "5xQmFKzITiUt"
   },
   "outputs": [],
   "source": [
    "greeting = \"Hello\""
   ]
  },
  {
   "cell_type": "code",
   "execution_count": null,
   "metadata": {
    "id": "xmcyJwM5TiUu"
   },
   "outputs": [],
   "source": [
    "greeting + full_name"
   ]
  },
  {
   "cell_type": "code",
   "execution_count": null,
   "metadata": {
    "id": "k4WyVyW8TiUu"
   },
   "outputs": [],
   "source": [
    "greeting + \" \" + full_name + \"!\" # additional space"
   ]
  },
  {
   "cell_type": "markdown",
   "metadata": {
    "id": "5al1udYoTiUu"
   },
   "source": [
    "Strings in Python have many built-in *methods* that are used to manipulate them. Let's try out some common string methods.\n",
    "\n",
    "> **Methods**: Methods are functions associated with data types and are accessed using the `.` notation e.g. `variable_name.method()` or `\"a string\".method()`. Methods are a powerful technique for associating common operations with values of specific data types.\n",
    "\n",
    "The `.lower()`, `.upper()` and `.capitalize()` methods are used to change the case of the characters."
   ]
  },
  {
   "cell_type": "code",
   "execution_count": null,
   "metadata": {
    "id": "r1vK9b4DTiUv"
   },
   "outputs": [],
   "source": [
    "today.lower()"
   ]
  },
  {
   "cell_type": "code",
   "execution_count": null,
   "metadata": {
    "id": "0HZ8NykbTiUv"
   },
   "outputs": [],
   "source": [
    "\"saturday\".upper()"
   ]
  },
  {
   "cell_type": "code",
   "execution_count": null,
   "metadata": {
    "id": "4iQWqKYmTiUv"
   },
   "outputs": [],
   "source": [
    "\"monday\".capitalize() # changes first character to uppercase"
   ]
  },
  {
   "cell_type": "markdown",
   "metadata": {
    "id": "RzBoI-KDTiUw"
   },
   "source": [
    "The `.replace` method replaces a part of the string with another string. It takes the portion to be replaced and the replacement text as *inputs* or *arguments*."
   ]
  },
  {
   "cell_type": "code",
   "execution_count": null,
   "metadata": {
    "id": "zntBCBKuTiUw"
   },
   "outputs": [],
   "source": [
    "another_day = today.replace(\"Satur\", \"Wednes\")"
   ]
  },
  {
   "cell_type": "code",
   "execution_count": null,
   "metadata": {
    "id": "nWd_qJumTiUw"
   },
   "outputs": [],
   "source": [
    "another_day"
   ]
  },
  {
   "cell_type": "markdown",
   "metadata": {
    "id": "uitk7SwgTiUw"
   },
   "source": [
    "Note that `replace` returns a new string, and the original string is not modified."
   ]
  },
  {
   "cell_type": "code",
   "execution_count": null,
   "metadata": {
    "id": "EuMpTcQlTiUx"
   },
   "outputs": [],
   "source": [
    "today"
   ]
  },
  {
   "cell_type": "markdown",
   "metadata": {
    "id": "N7R7EkScTiUx"
   },
   "source": [
    "The `.split` method splits a string into a list of strings at every occurrence of provided character(s)."
   ]
  },
  {
   "cell_type": "code",
   "execution_count": null,
   "metadata": {
    "id": "Pl7o7vhpTiUy"
   },
   "outputs": [],
   "source": [
    "\"Sun,Mon,Tue,Wed,Thu,Fri,Sat\".split(\",\")"
   ]
  },
  {
   "cell_type": "markdown",
   "metadata": {
    "id": "r5tWZN2UTiUy"
   },
   "source": [
    "The `.strip` method removes whitespace characters from the beginning and end of a string."
   ]
  },
  {
   "cell_type": "code",
   "execution_count": null,
   "metadata": {
    "id": "E7S-_mlmTiUy"
   },
   "outputs": [],
   "source": [
    "a_long_line = \"       This is a long line with some space before, after,     and some space in the middle..    \""
   ]
  },
  {
   "cell_type": "code",
   "execution_count": null,
   "metadata": {
    "id": "W-pguCEYTiUy"
   },
   "outputs": [],
   "source": [
    "a_long_line_stripped = a_long_line.strip()"
   ]
  },
  {
   "cell_type": "code",
   "execution_count": null,
   "metadata": {
    "id": "h1Nm6V9DTiUy"
   },
   "outputs": [],
   "source": [
    "a_long_line_stripped"
   ]
  },
  {
   "cell_type": "markdown",
   "metadata": {
    "id": "26zpYmEFTiUy"
   },
   "source": [
    "The `.format` method combines values of other data types, e.g., integers, floats, booleans, lists, etc. with strings. You can use `format` to construct output messages for display."
   ]
  },
  {
   "cell_type": "code",
   "execution_count": null,
   "metadata": {
    "id": "TEqbj-AhTiUz"
   },
   "outputs": [],
   "source": [
    "# Input variables\n",
    "cost_of_ice_bag = 1.25\n",
    "profit_margin = .2\n",
    "number_of_bags = 500\n",
    "\n",
    "# Template for output message\n",
    "output_template = \"\"\"If a grocery store sells ice bags at $ {} per bag, with a profit margin of {} %, \n",
    "then the total profit it makes by selling {} ice bags is $ {}.\"\"\"\n",
    "\n",
    "print(output_template)"
   ]
  },
  {
   "cell_type": "code",
   "execution_count": null,
   "metadata": {
    "id": "mDTV81NETiUz"
   },
   "outputs": [],
   "source": [
    "# Inserting values into the string\n",
    "total_profit = cost_of_ice_bag * profit_margin * number_of_bags\n",
    "output_message = output_template.format(cost_of_ice_bag, profit_margin*100, number_of_bags, total_profit)\n",
    "\n",
    "print(output_message)"
   ]
  },
  {
   "cell_type": "markdown",
   "metadata": {
    "id": "Slj1-uF1TiU0"
   },
   "source": [
    "Notice how the placeholders `{}` in the `output_template` string are replaced with the arguments provided to the `.format` method.\n",
    "\n",
    "It is also possible to use the string concatenation operator `+` to combine strings with other values. However, those values must first be converted to strings using the `str` function."
   ]
  },
  {
   "cell_type": "code",
   "execution_count": null,
   "metadata": {
    "id": "2Lus5NIwTiU0"
   },
   "outputs": [],
   "source": [
    "\"If a grocery store sells ice bags at $ \" + cost_of_ice_bag + \", with a profit margin of \" + profit_margin"
   ]
  },
  {
   "cell_type": "code",
   "execution_count": null,
   "metadata": {
    "id": "JP_8ZGVNTiU0"
   },
   "outputs": [],
   "source": [
    "\"If a grocery store sells ice bags at $ \" + str(cost_of_ice_bag) + \", with a profit margin of \" + str(profit_margin)"
   ]
  },
  {
   "cell_type": "markdown",
   "metadata": {
    "id": "yQMg6rDNTiU0"
   },
   "source": [
    "You can `str` to convert a value of any data type into a string."
   ]
  },
  {
   "cell_type": "code",
   "execution_count": null,
   "metadata": {
    "id": "ufNRlGFmTiU1"
   },
   "outputs": [],
   "source": [
    "str(23)"
   ]
  },
  {
   "cell_type": "code",
   "execution_count": null,
   "metadata": {
    "id": "EznbBrggTiU1"
   },
   "outputs": [],
   "source": [
    "str(23.432)"
   ]
  },
  {
   "cell_type": "code",
   "execution_count": null,
   "metadata": {
    "id": "hT7KF6pHTiU1"
   },
   "outputs": [],
   "source": [
    "str(True)"
   ]
  },
  {
   "cell_type": "code",
   "execution_count": null,
   "metadata": {
    "id": "0V1cCXkWTiU2"
   },
   "outputs": [],
   "source": [
    "the_3_musketeers = [\"Athos\", \"Porthos\", \"Aramis\"]\n",
    "str(the_3_musketeers)"
   ]
  },
  {
   "cell_type": "markdown",
   "metadata": {
    "id": "K4jo3t-ETiU2"
   },
   "source": [
    "Note that all string methods return new values and DO NOT change the existing string. You can find a full list of string methods here: https://www.w3schools.com/python/python_ref_string.asp. "
   ]
  },
  {
   "cell_type": "markdown",
   "metadata": {
    "id": "V41TkHGJTiU3"
   },
   "source": [
    "Strings also support the comparison operators `==` and `!=` for checking whether two strings are equal."
   ]
  },
  {
   "cell_type": "code",
   "execution_count": null,
   "metadata": {
    "id": "FcHzXMFFTiU3"
   },
   "outputs": [],
   "source": [
    "first_name = \"John\""
   ]
  },
  {
   "cell_type": "code",
   "execution_count": null,
   "metadata": {
    "id": "wEXmGQniTiU3"
   },
   "outputs": [],
   "source": [
    "first_name == \"Doe\""
   ]
  },
  {
   "cell_type": "code",
   "execution_count": null,
   "metadata": {
    "id": "7EGXQoXtTiU4"
   },
   "outputs": [],
   "source": [
    "first_name == \"John\""
   ]
  },
  {
   "cell_type": "code",
   "execution_count": null,
   "metadata": {
    "id": "kOumufWnTiU5"
   },
   "outputs": [],
   "source": [
    "first_name != \"Jane\""
   ]
  },
  {
   "cell_type": "markdown",
   "metadata": {
    "id": "PK-_xh9JTiU5"
   },
   "source": [
    "We've looked at the primitive data types in Python. We're now ready to explore non-primitive data structures, also known as containers.\n"
   ]
  },
  {
   "cell_type": "markdown",
   "metadata": {
    "id": "SCZzRoGlTiU6"
   },
   "source": [
    "### List\n",
    "\n",
    "A list in Python is an ordered collection of values. Lists can hold values of different data types and support operations to add, remove, and change values. Lists have the type `list`.\n",
    "\n",
    "To create a list, enclose a sequence of values within square brackets `[` and `]`, separated by commas."
   ]
  },
  {
   "cell_type": "code",
   "execution_count": null,
   "metadata": {
    "id": "c4CtRbrlTiU6"
   },
   "outputs": [],
   "source": [
    "fruits = ['apple', 'banana', 'cherry']"
   ]
  },
  {
   "cell_type": "code",
   "execution_count": null,
   "metadata": {
    "id": "keRF_rqYTiU7"
   },
   "outputs": [],
   "source": [
    "fruits"
   ]
  },
  {
   "cell_type": "code",
   "execution_count": null,
   "metadata": {
    "id": "U9swmdFYTiU7"
   },
   "outputs": [],
   "source": [
    "type(fruits)"
   ]
  },
  {
   "cell_type": "markdown",
   "metadata": {
    "id": "-_Npg8ctTiU7"
   },
   "source": [
    "Let's try creating a list containing values of different data types, including another list."
   ]
  },
  {
   "cell_type": "code",
   "execution_count": null,
   "metadata": {
    "id": "O034N7GzTiU7"
   },
   "outputs": [],
   "source": [
    "a_list = [23, 'hello', None, 3.14, fruits, 3 <= 5]"
   ]
  },
  {
   "cell_type": "code",
   "execution_count": null,
   "metadata": {
    "id": "iyRcoBpATiU7"
   },
   "outputs": [],
   "source": [
    "a_list"
   ]
  },
  {
   "cell_type": "code",
   "execution_count": null,
   "metadata": {
    "id": "ojnTA9vWTiU8"
   },
   "outputs": [],
   "source": [
    "empty_list = []"
   ]
  },
  {
   "cell_type": "code",
   "execution_count": null,
   "metadata": {
    "id": "T9rUUzhaTiU8"
   },
   "outputs": [],
   "source": [
    "empty_list"
   ]
  },
  {
   "cell_type": "markdown",
   "metadata": {
    "id": "9CVlmDBkTiU8"
   },
   "source": [
    "To determine the number of values in a list, use the `len` function. You can use `len`  to determine the number of values in several other data types."
   ]
  },
  {
   "cell_type": "code",
   "execution_count": null,
   "metadata": {
    "id": "7zP4iNFXTiU9"
   },
   "outputs": [],
   "source": [
    "len(fruits)"
   ]
  },
  {
   "cell_type": "code",
   "execution_count": null,
   "metadata": {
    "id": "pd4VP_3aTiU9"
   },
   "outputs": [],
   "source": [
    "print(\"Number of fruits:\", len(fruits))"
   ]
  },
  {
   "cell_type": "code",
   "execution_count": null,
   "metadata": {
    "id": "zq4n-CySTiU9"
   },
   "outputs": [],
   "source": [
    "len(a_list)"
   ]
  },
  {
   "cell_type": "code",
   "execution_count": null,
   "metadata": {
    "id": "3DZ4UAAxTiU9"
   },
   "outputs": [],
   "source": [
    "len(empty_list)"
   ]
  },
  {
   "cell_type": "markdown",
   "metadata": {
    "id": "bgd9XJ-QTiU-"
   },
   "source": [
    "You can access an element from the list using its *index*, e.g., `fruits[2]` returns the element at index 2 within the list `fruits`. The starting index of a list is 0."
   ]
  },
  {
   "cell_type": "code",
   "execution_count": null,
   "metadata": {
    "id": "sb7RAtj-TiU-"
   },
   "outputs": [],
   "source": [
    "fruits[0]"
   ]
  },
  {
   "cell_type": "code",
   "execution_count": null,
   "metadata": {
    "id": "goaiWt4CTiU_"
   },
   "outputs": [],
   "source": [
    "fruits[1]"
   ]
  },
  {
   "cell_type": "code",
   "execution_count": null,
   "metadata": {
    "id": "DsvGT9ZaTiU_"
   },
   "outputs": [],
   "source": [
    "fruits[2]"
   ]
  },
  {
   "cell_type": "markdown",
   "metadata": {
    "id": "jLvI5y91TiU_"
   },
   "source": [
    "If you try to access an index equal to or higher than the length of the list, Python returns an `IndexError`."
   ]
  },
  {
   "cell_type": "code",
   "execution_count": null,
   "metadata": {
    "id": "1NBoZ1IfTiU_"
   },
   "outputs": [],
   "source": [
    "fruits[3]"
   ]
  },
  {
   "cell_type": "code",
   "execution_count": null,
   "metadata": {
    "id": "9iUTSDbCTiVA"
   },
   "outputs": [],
   "source": [
    "fruits[4]"
   ]
  },
  {
   "cell_type": "markdown",
   "metadata": {
    "id": "tDdboN24TiVA"
   },
   "source": [
    "You can use negative indices to access elements from the end of a list, e.g., `fruits[-1]` returns the last element, `fruits[-2]` returns the second last element, and so on."
   ]
  },
  {
   "cell_type": "code",
   "execution_count": null,
   "metadata": {
    "id": "tqLgvO-FTiVA"
   },
   "outputs": [],
   "source": [
    "fruits[-1]"
   ]
  },
  {
   "cell_type": "code",
   "execution_count": null,
   "metadata": {
    "id": "Lx0hLhPbTiVB"
   },
   "outputs": [],
   "source": [
    "fruits[-2]"
   ]
  },
  {
   "cell_type": "code",
   "execution_count": null,
   "metadata": {
    "id": "tKaVLQIkTiVB"
   },
   "outputs": [],
   "source": [
    "fruits[-3]"
   ]
  },
  {
   "cell_type": "code",
   "execution_count": null,
   "metadata": {
    "id": "7V5wXlkpTiVC"
   },
   "outputs": [],
   "source": [
    "fruits[-4]"
   ]
  },
  {
   "cell_type": "markdown",
   "metadata": {
    "id": "damqg8f8TiVC"
   },
   "source": [
    "You can also access a range of values from the list. The result is itself a list. Let us look at some examples."
   ]
  },
  {
   "cell_type": "code",
   "execution_count": null,
   "metadata": {
    "id": "F30ZBVeBTiVC"
   },
   "outputs": [],
   "source": [
    "a_list = [23, 'hello', None, 3.14, fruits, 3 <= 5]"
   ]
  },
  {
   "cell_type": "code",
   "execution_count": null,
   "metadata": {
    "id": "SGcfVeUATiVC"
   },
   "outputs": [],
   "source": [
    "a_list"
   ]
  },
  {
   "cell_type": "code",
   "execution_count": null,
   "metadata": {
    "id": "zXeyfUQ8TiVC"
   },
   "outputs": [],
   "source": [
    "len(a_list)"
   ]
  },
  {
   "cell_type": "code",
   "execution_count": null,
   "metadata": {
    "id": "iCmjMiuZTiVC"
   },
   "outputs": [],
   "source": [
    "a_list[2:5]"
   ]
  },
  {
   "cell_type": "markdown",
   "metadata": {
    "id": "zxjzzLtzTiVC"
   },
   "source": [
    "Note that the range `2:5` includes the element at the start index `2` but does not include the element at the end index `5`. So, the result has 3 values (index `2`, `3`, and `4`).\n",
    "\n",
    "Here are some experiments you should try out (use the empty cells below):\n",
    "\n",
    "* Try setting one or both indices of the range are larger than the size of the list, e.g., `a_list[2:10]`\n",
    "* Try setting the start index of the range to be larger than the end index, e.g., `a_list[12:10]`\n",
    "* Try leaving out the start or end index of a range, e.g., `a_list[2:]` or `a_list[:5]`\n",
    "* Try using negative indices for the range, e.g., `a_list[-2:-5]` or `a_list[-5:-2]` (can you explain the results?)\n",
    "\n",
    "> The flexible and interactive nature of Jupyter notebooks makes them an excellent tool for learning and experimentation. If you are new to Python, you can resolve most questions as soon as they arise simply by typing the code into a cell and executing it. Let your curiosity run wild, discover what Python is capable of and what it isn't! "
   ]
  },
  {
   "cell_type": "code",
   "execution_count": null,
   "metadata": {
    "id": "qPy4O-_VTiVD"
   },
   "outputs": [],
   "source": []
  },
  {
   "cell_type": "code",
   "execution_count": null,
   "metadata": {
    "id": "j0Axki9yTiVD"
   },
   "outputs": [],
   "source": []
  },
  {
   "cell_type": "code",
   "execution_count": null,
   "metadata": {
    "id": "qgTI3TheTiVD"
   },
   "outputs": [],
   "source": []
  },
  {
   "cell_type": "code",
   "execution_count": null,
   "metadata": {
    "id": "YF7zB0l1TiVD"
   },
   "outputs": [],
   "source": []
  },
  {
   "cell_type": "markdown",
   "metadata": {
    "id": "caUM0Z2gTiVE"
   },
   "source": [
    "You can also change the value at a specific index within a list using the assignment operation."
   ]
  },
  {
   "cell_type": "code",
   "execution_count": null,
   "metadata": {
    "id": "Eow9IZUuTiVE"
   },
   "outputs": [],
   "source": [
    "fruits"
   ]
  },
  {
   "cell_type": "code",
   "execution_count": null,
   "metadata": {
    "id": "z2zSskiuTiVE"
   },
   "outputs": [],
   "source": [
    "fruits[1] = 'blueberry'"
   ]
  },
  {
   "cell_type": "code",
   "execution_count": null,
   "metadata": {
    "id": "XHyaWN02TiVE"
   },
   "outputs": [],
   "source": [
    "fruits"
   ]
  },
  {
   "cell_type": "markdown",
   "metadata": {
    "id": "unoabwj9TiVF"
   },
   "source": [
    "A new value can be added to the end of a list using the `append` method."
   ]
  },
  {
   "cell_type": "code",
   "execution_count": null,
   "metadata": {
    "id": "rL3_HhBcTiVF"
   },
   "outputs": [],
   "source": [
    "fruits.append('dates')"
   ]
  },
  {
   "cell_type": "code",
   "execution_count": null,
   "metadata": {
    "id": "1fx9O_9iTiVF"
   },
   "outputs": [],
   "source": [
    "fruits"
   ]
  },
  {
   "cell_type": "markdown",
   "metadata": {
    "id": "U1lDdy4WTiVG"
   },
   "source": [
    "A new value can also be inserted at a specific index using the `insert` method."
   ]
  },
  {
   "cell_type": "code",
   "execution_count": null,
   "metadata": {
    "id": "zqFG119HTiVH"
   },
   "outputs": [],
   "source": [
    "fruits.insert(1, 'banana')"
   ]
  },
  {
   "cell_type": "code",
   "execution_count": null,
   "metadata": {
    "id": "hqHCD_D9TiVI"
   },
   "outputs": [],
   "source": [
    "fruits"
   ]
  },
  {
   "cell_type": "markdown",
   "metadata": {
    "id": "o9SewaP-TiVI"
   },
   "source": [
    "You can remove a value from a list using the `remove` method."
   ]
  },
  {
   "cell_type": "code",
   "execution_count": null,
   "metadata": {
    "id": "N7E0NcSQTiVI"
   },
   "outputs": [],
   "source": [
    "fruits.remove('blueberry')"
   ]
  },
  {
   "cell_type": "code",
   "execution_count": null,
   "metadata": {
    "id": "hs2eOTK8TiVI"
   },
   "outputs": [],
   "source": [
    "fruits"
   ]
  },
  {
   "cell_type": "markdown",
   "metadata": {
    "id": "svqwcC9qTiVg"
   },
   "source": [
    "What happens if a list has multiple instances of the value passed to `.remove`? Try it out."
   ]
  },
  {
   "cell_type": "code",
   "execution_count": null,
   "metadata": {
    "id": "IM-XvyzQTiVh"
   },
   "outputs": [],
   "source": []
  },
  {
   "cell_type": "code",
   "execution_count": null,
   "metadata": {
    "id": "LmkW0g2UTiVh"
   },
   "outputs": [],
   "source": []
  },
  {
   "cell_type": "markdown",
   "metadata": {
    "id": "EDIZgCkTTiVh"
   },
   "source": [
    "To remove an element from a specific index, use the `pop` method. The method also returns the removed element."
   ]
  },
  {
   "cell_type": "code",
   "execution_count": null,
   "metadata": {
    "id": "fYC7hxC7TiVi"
   },
   "outputs": [],
   "source": [
    "fruits"
   ]
  },
  {
   "cell_type": "code",
   "execution_count": null,
   "metadata": {
    "id": "r6KuPUVKTiVj"
   },
   "outputs": [],
   "source": [
    "fruits.pop(1)"
   ]
  },
  {
   "cell_type": "code",
   "execution_count": null,
   "metadata": {
    "id": "58oTJUgmTiVj"
   },
   "outputs": [],
   "source": [
    "fruits"
   ]
  },
  {
   "cell_type": "markdown",
   "metadata": {
    "id": "PuRfQS3nTiVj"
   },
   "source": [
    "If no index is provided, the `pop` method removes the last element of the list."
   ]
  },
  {
   "cell_type": "code",
   "execution_count": null,
   "metadata": {
    "id": "6asYtf4ITiVj"
   },
   "outputs": [],
   "source": [
    "fruits.pop()"
   ]
  },
  {
   "cell_type": "code",
   "execution_count": null,
   "metadata": {
    "id": "mpuzYBLMTiVk"
   },
   "outputs": [],
   "source": [
    "fruits"
   ]
  },
  {
   "cell_type": "markdown",
   "metadata": {
    "id": "iHZXspu4TiVk"
   },
   "source": [
    "You can test whether a list contains a value using the `in` operator."
   ]
  },
  {
   "cell_type": "code",
   "execution_count": null,
   "metadata": {
    "id": "Blkf-8e9TiVm"
   },
   "outputs": [],
   "source": [
    "'pineapple' in fruits"
   ]
  },
  {
   "cell_type": "code",
   "execution_count": null,
   "metadata": {
    "id": "SXEXiWN9TiVm"
   },
   "outputs": [],
   "source": [
    "'cherry' in fruits"
   ]
  },
  {
   "cell_type": "markdown",
   "metadata": {
    "id": "SNyA2IHVTiVm"
   },
   "source": [
    "To combine two or more lists, use the `+` operator. This operation is also called *concatenation*."
   ]
  },
  {
   "cell_type": "code",
   "execution_count": null,
   "metadata": {
    "id": "ijbYiHvlTiVm"
   },
   "outputs": [],
   "source": [
    "fruits"
   ]
  },
  {
   "cell_type": "code",
   "execution_count": null,
   "metadata": {
    "id": "lA4nCezrTiVm"
   },
   "outputs": [],
   "source": [
    "more_fruits = fruits + ['pineapple', 'tomato', 'guava'] + ['dates', 'banana']"
   ]
  },
  {
   "cell_type": "code",
   "execution_count": null,
   "metadata": {
    "id": "qiE5GW84TiVn"
   },
   "outputs": [],
   "source": [
    "more_fruits"
   ]
  },
  {
   "cell_type": "markdown",
   "metadata": {
    "id": "zrrQnhPRTiVn"
   },
   "source": [
    "To create a copy of a list, use the `copy` method. Modifying the copied list does not affect the original."
   ]
  },
  {
   "cell_type": "code",
   "execution_count": null,
   "metadata": {
    "id": "2YeVvvpnTiVn"
   },
   "outputs": [],
   "source": [
    "more_fruits_copy = more_fruits.copy()"
   ]
  },
  {
   "cell_type": "code",
   "execution_count": null,
   "metadata": {
    "id": "euNu1vDxTiVo"
   },
   "outputs": [],
   "source": [
    "more_fruits_copy"
   ]
  },
  {
   "cell_type": "code",
   "execution_count": null,
   "metadata": {
    "id": "KgZ6UtcrTiVo"
   },
   "outputs": [],
   "source": [
    "# Modify the copy\n",
    "more_fruits_copy.remove('pineapple')\n",
    "more_fruits_copy.pop()\n",
    "more_fruits_copy"
   ]
  },
  {
   "cell_type": "code",
   "execution_count": null,
   "metadata": {
    "id": "v1_Asc0OTiVp"
   },
   "outputs": [],
   "source": [
    "# Original list remains unchanged\n",
    "more_fruits"
   ]
  },
  {
   "cell_type": "markdown",
   "metadata": {
    "id": "nsuYm1hATiVp"
   },
   "source": [
    "Note that you cannot create a copy of a list by simply creating a new variable using the assignment operator `=`. The new variable will point to the same list, and any modifications performed using either variable will affect the other."
   ]
  },
  {
   "cell_type": "code",
   "execution_count": null,
   "metadata": {
    "id": "AXl8QYKGTiVp"
   },
   "outputs": [],
   "source": [
    "more_fruits"
   ]
  },
  {
   "cell_type": "code",
   "execution_count": null,
   "metadata": {
    "id": "-s4t_1CyTiVp"
   },
   "outputs": [],
   "source": [
    "more_fruits_not_a_copy = more_fruits"
   ]
  },
  {
   "cell_type": "code",
   "execution_count": null,
   "metadata": {
    "id": "A91fE6vYTiVp"
   },
   "outputs": [],
   "source": [
    "more_fruits_not_a_copy.remove('pineapple')\n",
    "more_fruits_not_a_copy.pop()"
   ]
  },
  {
   "cell_type": "code",
   "execution_count": null,
   "metadata": {
    "id": "c-KTpT8oTiVq"
   },
   "outputs": [],
   "source": [
    "more_fruits_not_a_copy"
   ]
  },
  {
   "cell_type": "code",
   "execution_count": null,
   "metadata": {
    "id": "A4htEtKBTiVq"
   },
   "outputs": [],
   "source": [
    "more_fruits"
   ]
  },
  {
   "cell_type": "markdown",
   "metadata": {
    "id": "xV5zBRINTiVq"
   },
   "source": [
    "Just like strings, there are several in-built methods to manipulate a list. However, unlike strings, most list methods modify the original list rather than returning a new one. Check out some common list operations here: https://www.w3schools.com/python/python_ref_list.asp .\n",
    "\n",
    "\n",
    "Following are some exercises you can try out with list methods (use the blank code cells below):\n",
    "\n",
    "* Reverse the order of elements in a list\n",
    "* Add the elements of one list at the end of another list\n",
    "* Sort a list of strings in alphabetical order\n",
    "* Sort a list of numbers in decreasing order"
   ]
  },
  {
   "cell_type": "code",
   "execution_count": 6,
   "metadata": {
    "id": "3xVVnFzWTiVr"
   },
   "outputs": [
    {
     "name": "stdout",
     "output_type": "stream",
     "text": [
      "['test2', 'test1', 'test']\n"
     ]
    }
   ],
   "source": [
    "li = [\"test\", \"test1\", \"test2\"]\n",
    "li.reverse()\n",
    "print(li)"
   ]
  },
  {
   "cell_type": "code",
   "execution_count": 7,
   "metadata": {},
   "outputs": [
    {
     "name": "stdout",
     "output_type": "stream",
     "text": [
      "['test2', 'test1', 'test', 'test3']\n"
     ]
    }
   ],
   "source": [
    "li.append(\"test3\")\n",
    "print(li)"
   ]
  },
  {
   "cell_type": "code",
   "execution_count": 8,
   "metadata": {
    "id": "O02gfKtmTiVr"
   },
   "outputs": [
    {
     "name": "stdout",
     "output_type": "stream",
     "text": [
      "['test', 'test1', 'test2', 'test3']\n"
     ]
    }
   ],
   "source": [
    "li.sort()\n",
    "print(li)"
   ]
  },
  {
   "cell_type": "code",
   "execution_count": null,
   "metadata": {
    "id": "ME35VlXwTiVr"
   },
   "outputs": [],
   "source": []
  },
  {
   "cell_type": "code",
   "execution_count": null,
   "metadata": {
    "id": "R8GmGA8yTiVr"
   },
   "outputs": [],
   "source": []
  },
  {
   "cell_type": "code",
   "execution_count": null,
   "metadata": {
    "id": "Pn1KQGOUpeNB"
   },
   "outputs": [],
   "source": []
  },
  {
   "cell_type": "code",
   "execution_count": null,
   "metadata": {
    "id": "_UMtUqHsqRU-"
   },
   "outputs": [],
   "source": []
  },
  {
   "cell_type": "markdown",
   "metadata": {
    "id": "QhSM2qkZTiVs"
   },
   "source": [
    "### Tuple\n",
    "\n",
    "A tuple is an ordered collection of values, similar to a list. However, it is not possible to add, remove, or modify values in a tuple. A tuple is created by enclosing values within parentheses `(` and `)`, separated by commas.\n",
    "\n",
    "> Any data structure that cannot be modified after creation is called *immutable*. You can think of tuples as immutable lists.\n",
    "\n",
    "Let's try some experiments with tuples."
   ]
  },
  {
   "cell_type": "code",
   "execution_count": null,
   "metadata": {
    "id": "BR1q22W6TiVs"
   },
   "outputs": [],
   "source": [
    "fruits = ('apple', 'cherry', 'dates')"
   ]
  },
  {
   "cell_type": "code",
   "execution_count": null,
   "metadata": {
    "id": "ZH5eK7SjTiVs"
   },
   "outputs": [],
   "source": [
    "# check no. of elements\n",
    "len(fruits)"
   ]
  },
  {
   "cell_type": "code",
   "execution_count": null,
   "metadata": {
    "id": "D917tzOQTiVs"
   },
   "outputs": [],
   "source": [
    "# get an element (positive index)\n",
    "fruits[0]"
   ]
  },
  {
   "cell_type": "code",
   "execution_count": null,
   "metadata": {
    "id": "N0WhczNWTiVt"
   },
   "outputs": [],
   "source": [
    "# get an element (negative index)\n",
    "fruits[-2]"
   ]
  },
  {
   "cell_type": "code",
   "execution_count": null,
   "metadata": {
    "id": "AWVRJx42TiVt"
   },
   "outputs": [],
   "source": [
    "# check if it contains an element\n",
    "'dates' in fruits"
   ]
  },
  {
   "cell_type": "code",
   "execution_count": null,
   "metadata": {
    "id": "z1XVFC7GTiVt"
   },
   "outputs": [],
   "source": [
    "# try to change an element\n",
    "fruits[0] = 'avocado'"
   ]
  },
  {
   "cell_type": "code",
   "execution_count": null,
   "metadata": {
    "id": "lOBYJ_4bTiVu"
   },
   "outputs": [],
   "source": [
    "# try to append an element\n",
    "fruits.append('blueberry')"
   ]
  },
  {
   "cell_type": "code",
   "execution_count": null,
   "metadata": {
    "id": "O7LMRbogTiVu"
   },
   "outputs": [],
   "source": [
    "# try to remove an element\n",
    "fruits.remove('apple')"
   ]
  },
  {
   "cell_type": "markdown",
   "metadata": {
    "id": "lG0d5mX-TiVu"
   },
   "source": [
    "You can also skip the parantheses `(` and `)` while creating a tuple. Python automatically converts comma-separated values into a tuple."
   ]
  },
  {
   "cell_type": "code",
   "execution_count": null,
   "metadata": {
    "id": "Bc06MvDoTiVv"
   },
   "outputs": [],
   "source": [
    "the_3_musketeers = 'Athos', 'Porthos', 'Aramis'"
   ]
  },
  {
   "cell_type": "code",
   "execution_count": null,
   "metadata": {
    "id": "REvPL0WYTiVv"
   },
   "outputs": [],
   "source": [
    "the_3_musketeers"
   ]
  },
  {
   "cell_type": "markdown",
   "metadata": {
    "id": "ZxIVpxQwTiVv"
   },
   "source": [
    "You can also create a tuple with just one element by typing a comma after it. Just wrapping it with parentheses `(` and `)` won't make it a tuple."
   ]
  },
  {
   "cell_type": "code",
   "execution_count": null,
   "metadata": {
    "id": "yE2GrplcTiVw"
   },
   "outputs": [],
   "source": [
    "single_element_tuple = 4,"
   ]
  },
  {
   "cell_type": "code",
   "execution_count": null,
   "metadata": {
    "id": "-lRSi0BTTiVw"
   },
   "outputs": [],
   "source": [
    "single_element_tuple"
   ]
  },
  {
   "cell_type": "code",
   "execution_count": null,
   "metadata": {
    "id": "oztx6rcDTiVw"
   },
   "outputs": [],
   "source": [
    "another_single_element_tuple = (4,)"
   ]
  },
  {
   "cell_type": "code",
   "execution_count": null,
   "metadata": {
    "id": "KqKD6VruTiVw"
   },
   "outputs": [],
   "source": [
    "another_single_element_tuple"
   ]
  },
  {
   "cell_type": "code",
   "execution_count": null,
   "metadata": {
    "id": "_5WDvLSrTiVx"
   },
   "outputs": [],
   "source": [
    "not_a_tuple = (4)"
   ]
  },
  {
   "cell_type": "code",
   "execution_count": null,
   "metadata": {
    "id": "KrFamFAlTiVx"
   },
   "outputs": [],
   "source": [
    "not_a_tuple"
   ]
  },
  {
   "cell_type": "markdown",
   "metadata": {
    "id": "6E3G4lguTiVy"
   },
   "source": [
    "Tuples are often used to create multiple variables with a single statement."
   ]
  },
  {
   "cell_type": "code",
   "execution_count": null,
   "metadata": {
    "id": "Rk7fiNU7TiVy"
   },
   "outputs": [],
   "source": [
    "point = (3, 4)"
   ]
  },
  {
   "cell_type": "code",
   "execution_count": null,
   "metadata": {
    "id": "u1XR4XvBTiVy"
   },
   "outputs": [],
   "source": [
    "point_x, point_y = point"
   ]
  },
  {
   "cell_type": "code",
   "execution_count": null,
   "metadata": {
    "id": "xEzFZFrPTiVz"
   },
   "outputs": [],
   "source": [
    "point_x"
   ]
  },
  {
   "cell_type": "code",
   "execution_count": null,
   "metadata": {
    "id": "X2fWAeydTiVz"
   },
   "outputs": [],
   "source": [
    "point_y"
   ]
  },
  {
   "cell_type": "markdown",
   "metadata": {
    "id": "nNdfJuJyTiVz"
   },
   "source": [
    "You can convert a list into a tuple using the `tuple` function, and vice versa using the `list` function"
   ]
  },
  {
   "cell_type": "code",
   "execution_count": null,
   "metadata": {
    "id": "KynNg42STiVz"
   },
   "outputs": [],
   "source": [
    "tuple(['one', 'two', 'three'])"
   ]
  },
  {
   "cell_type": "code",
   "execution_count": null,
   "metadata": {
    "id": "PhaThpmkTiVz"
   },
   "outputs": [],
   "source": [
    "list(('Athos', 'Porthos', 'Aramis'))"
   ]
  },
  {
   "cell_type": "markdown",
   "metadata": {
    "id": "oQ7thBM2TiV0"
   },
   "source": [
    "Tuples have just two built-in methods: `count` and `index`. Can you figure out what they do? While you look could look for documentation and examples online, there's an easier way to check a method's documentation, using the `help` function."
   ]
  },
  {
   "cell_type": "code",
   "execution_count": null,
   "metadata": {
    "id": "zXFNaIjETiV0"
   },
   "outputs": [],
   "source": [
    "a_tuple = 23, \"hello\", False, None, 23, 37, \"hello\""
   ]
  },
  {
   "cell_type": "code",
   "execution_count": null,
   "metadata": {
    "id": "ZN7Z8kbDTiV0"
   },
   "outputs": [],
   "source": [
    "help(a_tuple.count)"
   ]
  },
  {
   "cell_type": "markdown",
   "metadata": {
    "id": "64FpJQoLTiV0"
   },
   "source": [
    "Within a Jupyter notebook, you can also start a code cell with `?` and type the name of a function or method. When you execute this cell, you will see the function/method's documentation in a pop-up window."
   ]
  },
  {
   "cell_type": "code",
   "execution_count": null,
   "metadata": {
    "id": "2cb5icccTiV2"
   },
   "outputs": [],
   "source": [
    "?a_tuple.index"
   ]
  },
  {
   "cell_type": "markdown",
   "metadata": {
    "id": "0PHQ7dM6TiV2"
   },
   "source": [
    "Try using `count` and `index` with `a_tuple` in the code cells below."
   ]
  },
  {
   "cell_type": "code",
   "execution_count": null,
   "metadata": {
    "id": "C0bxJ2blTiV2"
   },
   "outputs": [],
   "source": []
  },
  {
   "cell_type": "code",
   "execution_count": null,
   "metadata": {
    "id": "YMW09l31TiV2"
   },
   "outputs": [],
   "source": []
  },
  {
   "cell_type": "markdown",
   "metadata": {
    "id": "9V5yA7Y5TiV2"
   },
   "source": [
    "### Dictionary\n",
    "\n",
    "A dictionary is an unordered collection of items. Each item stored in a dictionary has a key and value. You can use a key to retrieve the corresponding value from the dictionary.  Dictionaries have the type `dict`.\n",
    "\n",
    "Dictionaries are often used to store many pieces of information e.g. details about a person, in a single variable. Dictionaries are created by enclosing key-value pairs within braces or curly brackets `{` and `}`."
   ]
  },
  {
   "cell_type": "code",
   "execution_count": null,
   "metadata": {
    "id": "fVRa2v4wTiV2"
   },
   "outputs": [],
   "source": [
    "person1 = {\n",
    "    'name': 'John Doe',\n",
    "    'sex': 'Male',\n",
    "    'age': 32,\n",
    "    'married': True\n",
    "}"
   ]
  },
  {
   "cell_type": "code",
   "execution_count": null,
   "metadata": {
    "id": "fCMZGP4UTiV2"
   },
   "outputs": [],
   "source": [
    "person1"
   ]
  },
  {
   "cell_type": "markdown",
   "metadata": {
    "id": "0XI_HAwnTiV3"
   },
   "source": [
    "Dictionaries can also be created using the `dict` function."
   ]
  },
  {
   "cell_type": "code",
   "execution_count": null,
   "metadata": {
    "id": "9o_xW8Z2TiV3"
   },
   "outputs": [],
   "source": [
    "person2 = dict(name='Jane Judy', sex='Female', age=28, married=False)"
   ]
  },
  {
   "cell_type": "code",
   "execution_count": null,
   "metadata": {
    "id": "rS9k4i5fTiV4"
   },
   "outputs": [],
   "source": [
    "person2"
   ]
  },
  {
   "cell_type": "code",
   "execution_count": null,
   "metadata": {
    "id": "Xs6hpK4qTiV4"
   },
   "outputs": [],
   "source": [
    "type(person1)"
   ]
  },
  {
   "cell_type": "markdown",
   "metadata": {
    "id": "Sdsn_vbJTiV4"
   },
   "source": [
    "Keys can be used to access values using square brackets `[` and `]`."
   ]
  },
  {
   "cell_type": "code",
   "execution_count": null,
   "metadata": {
    "id": "0fOQpUbuTiV4"
   },
   "outputs": [],
   "source": [
    "person1['name']"
   ]
  },
  {
   "cell_type": "code",
   "execution_count": null,
   "metadata": {
    "id": "tOVPVHGLTiV5"
   },
   "outputs": [],
   "source": [
    "person1['married']"
   ]
  },
  {
   "cell_type": "code",
   "execution_count": null,
   "metadata": {
    "id": "580-pRhQTiV6"
   },
   "outputs": [],
   "source": [
    "person2['name']"
   ]
  },
  {
   "cell_type": "markdown",
   "metadata": {
    "id": "cdc9lJgGTiV6"
   },
   "source": [
    "If a key isn't present in the dictionary, then a `KeyError` is *thrown*."
   ]
  },
  {
   "cell_type": "code",
   "execution_count": null,
   "metadata": {
    "id": "1ajsouR6TiV6"
   },
   "outputs": [],
   "source": [
    "person1['address']"
   ]
  },
  {
   "cell_type": "markdown",
   "metadata": {
    "id": "b00uODqjTiV6"
   },
   "source": [
    "You can also use the `get` method to access the value associated with a key."
   ]
  },
  {
   "cell_type": "code",
   "execution_count": null,
   "metadata": {
    "id": "cWPIROcyTiV7"
   },
   "outputs": [],
   "source": [
    "person2.get(\"name\")"
   ]
  },
  {
   "cell_type": "markdown",
   "metadata": {
    "id": "iSyOCNatTiV7"
   },
   "source": [
    "The `get` method also accepts a default value, returned if the key is not present in the dictionary."
   ]
  },
  {
   "cell_type": "code",
   "execution_count": null,
   "metadata": {
    "id": "E2juPQYHTiV7"
   },
   "outputs": [],
   "source": [
    "person2.get(\"address\", \"Unknown\")"
   ]
  },
  {
   "cell_type": "markdown",
   "metadata": {
    "id": "tTVMGTddTiV7"
   },
   "source": [
    "You can check whether a key is present in a dictionary using the `in` operator."
   ]
  },
  {
   "cell_type": "code",
   "execution_count": null,
   "metadata": {
    "id": "WPdjONbfTiV7"
   },
   "outputs": [],
   "source": [
    "'name' in person1"
   ]
  },
  {
   "cell_type": "code",
   "execution_count": null,
   "metadata": {
    "id": "JkdZll0-TiV8"
   },
   "outputs": [],
   "source": [
    "'address' in person1"
   ]
  },
  {
   "cell_type": "markdown",
   "metadata": {
    "id": "kdQBcltmTiV8"
   },
   "source": [
    "You can change the value associated with a key using the assignment operator."
   ]
  },
  {
   "cell_type": "code",
   "execution_count": null,
   "metadata": {
    "id": "H052YQ1wTiV8"
   },
   "outputs": [],
   "source": [
    "person2['married']"
   ]
  },
  {
   "cell_type": "code",
   "execution_count": null,
   "metadata": {
    "id": "lsjJdbeJTiV9"
   },
   "outputs": [],
   "source": [
    "person2['married'] = True"
   ]
  },
  {
   "cell_type": "code",
   "execution_count": null,
   "metadata": {
    "id": "VGWORR99TiV9"
   },
   "outputs": [],
   "source": [
    "person2['married']"
   ]
  },
  {
   "cell_type": "markdown",
   "metadata": {
    "id": "oTEb5gqdTiV9"
   },
   "source": [
    "The assignment operator can also be used to add new key-value pairs to the dictionary."
   ]
  },
  {
   "cell_type": "code",
   "execution_count": null,
   "metadata": {
    "id": "4wnd6DHKTiV9"
   },
   "outputs": [],
   "source": [
    "person1"
   ]
  },
  {
   "cell_type": "code",
   "execution_count": null,
   "metadata": {
    "id": "eZuwxTADTiV-"
   },
   "outputs": [],
   "source": [
    "person1['address'] = '1, Penny Lane'"
   ]
  },
  {
   "cell_type": "code",
   "execution_count": null,
   "metadata": {
    "id": "pE7xoXKKTiV-"
   },
   "outputs": [],
   "source": [
    "person1"
   ]
  },
  {
   "cell_type": "markdown",
   "metadata": {
    "id": "yblJzzjCTiV-"
   },
   "source": [
    "To remove a key and the associated value from a dictionary, use the `pop` method."
   ]
  },
  {
   "cell_type": "code",
   "execution_count": null,
   "metadata": {
    "id": "p0vB-VD7TiV_"
   },
   "outputs": [],
   "source": [
    "person1.pop('address')"
   ]
  },
  {
   "cell_type": "code",
   "execution_count": null,
   "metadata": {
    "id": "nMltp5Y6TiV_"
   },
   "outputs": [],
   "source": [
    "person1"
   ]
  },
  {
   "cell_type": "markdown",
   "metadata": {
    "id": "7lZtr5XBTiV_"
   },
   "source": [
    "Dictionaries also provide methods to view the list of keys, values, or key-value pairs inside it."
   ]
  },
  {
   "cell_type": "code",
   "execution_count": null,
   "metadata": {
    "id": "GATxK4dYTiV_"
   },
   "outputs": [],
   "source": [
    "person1.keys()"
   ]
  },
  {
   "cell_type": "code",
   "execution_count": null,
   "metadata": {
    "id": "nA_u52HrTiWA"
   },
   "outputs": [],
   "source": [
    "person1.values()"
   ]
  },
  {
   "cell_type": "code",
   "execution_count": null,
   "metadata": {
    "id": "ADWnp45ITiWA"
   },
   "outputs": [],
   "source": [
    "person1.items()"
   ]
  },
  {
   "cell_type": "code",
   "execution_count": null,
   "metadata": {
    "id": "yuSCz2cETiWB"
   },
   "outputs": [],
   "source": [
    "person1.items()[1]"
   ]
  },
  {
   "cell_type": "markdown",
   "metadata": {
    "id": "0x7dEAOPTiWB"
   },
   "source": [
    "The results of `keys`, `values`, and `items` look like lists. However, they don't support the indexing operator `[]` for retrieving elements. \n",
    "\n",
    "Can you figure out how to access an element at a specific index from these results? Try it below. *Hint: Use the `list` function*"
   ]
  },
  {
   "cell_type": "code",
   "execution_count": null,
   "metadata": {
    "id": "CgGNsviKTiWB"
   },
   "outputs": [],
   "source": []
  },
  {
   "cell_type": "code",
   "execution_count": null,
   "metadata": {
    "id": "dcf2k3P1TiWC"
   },
   "outputs": [],
   "source": []
  },
  {
   "cell_type": "markdown",
   "metadata": {
    "id": "Z4Gwe19hTiWC"
   },
   "source": [
    "Dictionaries provide many other methods. You can learn more about them here: https://www.w3schools.com/python/python_ref_dictionary.asp .\n",
    "\n",
    "Here are some experiments you can try out with dictionaries (use the empty cells below):\n",
    "* What happens if you use the same key multiple times while creating a dictionary?\n",
    "* How can you create a copy of a dictionary (modifying the copy should not change the original)?\n",
    "* Can the value associated with a key itself be a dictionary?\n",
    "* How can you add the key-value pairs from one dictionary into another dictionary? Hint: See the `update` method.\n",
    "* Can the dictionary's keys be something other than a string, e.g., a number, boolean, list, etc.?"
   ]
  },
  {
   "cell_type": "code",
   "execution_count": null,
   "metadata": {
    "id": "H3_wazATTiWC"
   },
   "outputs": [],
   "source": []
  },
  {
   "cell_type": "code",
   "execution_count": null,
   "metadata": {
    "id": "DV83-4NZTiWD"
   },
   "outputs": [],
   "source": []
  },
  {
   "cell_type": "code",
   "execution_count": null,
   "metadata": {
    "id": "1eR2fQ_hTiWD"
   },
   "outputs": [],
   "source": []
  },
  {
   "cell_type": "code",
   "execution_count": null,
   "metadata": {
    "id": "1YDSeaNyTiWD"
   },
   "outputs": [],
   "source": []
  },
  {
   "cell_type": "code",
   "execution_count": null,
   "metadata": {
    "id": "OQ5SI0wbTiWD"
   },
   "outputs": [],
   "source": []
  },
  {
   "cell_type": "code",
   "execution_count": null,
   "metadata": {
    "id": "5jWcXi1J11d4"
   },
   "outputs": [],
   "source": []
  },
  {
   "cell_type": "markdown",
   "metadata": {
    "id": "uf0jvZZpTiWD"
   },
   "source": [
    "## Further Reading\n",
    "\n",
    "We've now completed our exploration of variables and common data types in Python. Following are some resources to learn more about data types in Python:\n",
    "\n",
    "* Python official documentation: https://docs.python.org/3/tutorial/index.html\n",
    "* Python Tutorial at W3Schools: https://www.w3schools.com/python/\n",
    "* Practical Python Programming: https://dabeaz-course.github.io/practical-python/Notes/Contents.html\n"
   ]
  },
  {
   "cell_type": "markdown",
   "metadata": {
    "id": "QAPIz_77TiWE"
   },
   "source": [
    "## Questions for Revision\n",
    "\n",
    "Try answering the following questions to test your understanding of the topics covered in this notebook:\n",
    "\n",
    "1. What is a variable in Python?\n",
    "2. How do you create a variable?\n",
    "3. How do you check the value within a variable?\n",
    "4. How do you create multiple variables in a single statement?\n",
    "5. How do you create multiple variables with the same value?\n",
    "6. How do you change the value of a variable?\n",
    "7. How do you reassign a variable by modifying the previous value?\n",
    "8. What does the statement `counter += 4` do?\n",
    "9. What are the rules for naming a variable?\n",
    "10. Are variable names case-sensitive? Do `a_variable`, `A_Variable`, and `A_VARIABLE` represent the same variable or different ones?\n",
    "11. What is Syntax? Why is it important?\n",
    "12. What happens if you execute a statement with invalid syntax?\n",
    "13. How do you check the data type of a variable?\n",
    "14. What are the built-in data types in Python?\n",
    "15. What is a primitive data type? \n",
    "16. What are the primitive data types available in Python?\n",
    "17. What is a data structure or container data type?\n",
    "18. What are the container types available in Python?\n",
    "19. What kind of data does the Integer data type represent?\n",
    "20. What are the numerical limits of the integer data type?\n",
    "21. What kind of data does the float data type represent?\n",
    "22. How does Python decide if a given number is a float or an integer?\n",
    "23. How can you create a variable which stores a whole number, e.g., 4 but has the float data type?\n",
    "24. How do you create floats representing very large (e.g., 6.023 x 10^23) or very small numbers (0.000000123)?\n",
    "25. What does the expression `23e-12` represent?\n",
    "26. Can floats be used to store numbers with unlimited precision?\n",
    "27. What are the differences between integers and floats?\n",
    "28. How do you convert an integer to a float?\n",
    "29. How do you convert a float to an integer?\n",
    "30. What is the result obtained when you convert 1.99 to an integer?\n",
    "31. What are the data types of the results of the division operators `/` and `//`?\n",
    "32. What kind of data does the Boolean data type represent?\n",
    "33. Which types of Python operators return booleans as a result?\n",
    "34. What happens if you try to use a boolean in arithmetic operation?\n",
    "35. How can any value in Python be covered to a boolean?\n",
    "36. What are truthy and falsy values?\n",
    "37. What are the values in Python that evaluate to False?\n",
    "38. Give some examples of values that evaluate to True.\n",
    "39. What kind of data does the None data type represent?\n",
    "40. What is the purpose of None?\n",
    "41. What kind of data does the String data type represent?\n",
    "42. What are the different ways of creating strings in Python?\n",
    "43. What is the difference between strings creating using single quotes, i.e. `'` and `'` vs. those created using double quotes, i.e. `\"` and `\"`?\n",
    "44. How do you create multi-line strings in Python?\n",
    "45. What is the newline character, `\\n`?\n",
    "46. What are escaped characters? How are they useful?\n",
    "47. How do you check the length of a string?\n",
    "48. How do you convert a string into a list of characters?\n",
    "49. How do you access a specific character from a string?\n",
    "50. How do you access a range of characters from a string?\n",
    "51. How do you check if a specific character occurs in a string?\n",
    "52. How do you check if a smaller string occurs within a bigger string?\n",
    "53. How do you join two or more strings?\n",
    "54. What are \"methods\" in Python? How are they different from functions?\n",
    "55. What do the `.lower`, `.upper` and `.capitalize` methods on strings do?\n",
    "56. How do you replace a specific part of a string with something else?\n",
    "57. How do you split the string \"Sun,Mon,Tue,Wed,Thu,Fri,Sat\" into a list of days?\n",
    "58. How do you remove whitespace from the beginning and end of a string?\n",
    "59. What is the string `.format` method used for? Can you give an example?\n",
    "60. What are the benefits of using the `.format` method instead of string concatenation?\n",
    "61. How do you convert a value of another type to a string?\n",
    "62. How do you check if two strings have the same value?\n",
    "63. Where can you find the list of all the methods supported by strings?\n",
    "64. What is a list in Python?\n",
    "65. How do you create a list?\n",
    "66. Can a Python list contain values of different data types?\n",
    "67. Can a list contain another list as an element within it?\n",
    "68. Can you create a list without any values?\n",
    "69. How do you check the length of a list in Python?\n",
    "70. How do you retrieve a value from a list?\n",
    "71. What is the smallest and largest index you can use to access elements from a list containing five elements?\n",
    "72. What happens if you try to access an index equal to or larger than the size of a list?\n",
    "73. What happens if you try to access a negative index within a list?\n",
    "74. How do you access a range of elements from a list?\n",
    "75. How many elements does the list returned by the expression `a_list[2:5]` contain?\n",
    "76. What do the ranges `a_list[:2]` and `a_list[2:]` represent?\n",
    "77. How do you change the item stored at a specific index within a list?\n",
    "78. How do you insert a new item at the beginning, middle, or end of a list?\n",
    "79. How do you remove an item from al list?\n",
    "80. How do you remove the item at a given index from a list?\n",
    "81. How do you check if a list contains a value?\n",
    "82. How do you combine two or most lists to create a larger list?\n",
    "83. How do you create a copy of a list?\n",
    "84. Does the expression `a_new_list = a_list` create a copy of the list `a_list`?\n",
    "85. Where can you find the list of all the methods supported by lists?\n",
    "86. What is a Tuple in Python?\n",
    "87. How is a tuple different from a list?\n",
    "88. Can you add or remove elements in a tuple?\n",
    "89. How do you create a tuple with just one element?\n",
    "90. How do you convert a tuple to a list and vice versa?\n",
    "91. What are the `count` and `index` method of a Tuple used for?\n",
    "92. What is a dictionary in Python?\n",
    "93. How do you create a dictionary?\n",
    "94. What are keys and values?\n",
    "95. How do you access the value associated with a specific key in a dictionary?\n",
    "96. What happens if you try to access the value for a key that doesn't exist in a dictionary?\n",
    "97. What is the `.get` method of a dictionary used for?\n",
    "98. How do you change the value associated with a key in a dictionary?\n",
    "99. How do you add or remove a key-value pair in a dictionary?\n",
    "100. How do you access the keys, values, and key-value pairs within a dictionary?\n"
   ]
  }
 ],
 "metadata": {
  "colab": {
   "collapsed_sections": [
    "Ln7khLAzTiUE",
    "rgzdmn5HTiUQ",
    "xL1etj7OTiUf",
    "uf0jvZZpTiWD"
   ],
   "provenance": []
  },
  "gpuClass": "standard",
  "kernelspec": {
   "display_name": "Python 3",
   "language": "python",
   "name": "python3"
  },
  "language_info": {
   "codemirror_mode": {
    "name": "ipython",
    "version": 3
   },
   "file_extension": ".py",
   "mimetype": "text/x-python",
   "name": "python",
   "nbconvert_exporter": "python",
   "pygments_lexer": "ipython3",
   "version": "3.12.5"
  }
 },
 "nbformat": 4,
 "nbformat_minor": 1
}
